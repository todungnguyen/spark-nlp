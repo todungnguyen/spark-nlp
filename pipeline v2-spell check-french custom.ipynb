{
 "cells": [
  {
   "cell_type": "code",
   "execution_count": 1,
   "id": "17275221",
   "metadata": {},
   "outputs": [],
   "source": [
    "import pandas as pd\n",
    "import pyspark.sql.functions as F\n",
    "from pyspark.sql.window import Window\n",
    "from sparknlp.annotator import *\n",
    "from sparknlp.base import *\n",
    "import sparknlp\n",
    "from sparknlp.pretrained import PretrainedPipeline\n",
    "\n",
    "spark = sparknlp.start(gpu = True)"
   ]
  },
  {
   "cell_type": "code",
   "execution_count": 2,
   "id": "4d7dc6b2",
   "metadata": {},
   "outputs": [
    {
     "name": "stderr",
     "output_type": "stream",
     "text": [
      "/Users/todungnguyen/opt/anaconda3/lib/python3.8/site-packages/pandas/util/_decorators.py:311: ParserWarning: Falling back to the 'python' engine because the 'c' engine does not support regex separators (separators > 1 char and different from '\\s+' are interpreted as regex); you can avoid this warning by specifying engine='python'.\n",
      "  return func(*args, **kwargs)\n"
     ]
    },
    {
     "data": {
      "text/plain": [
       "(9381, 1)"
      ]
     },
     "execution_count": 2,
     "metadata": {},
     "output_type": "execute_result"
    }
   ],
   "source": [
    "data = pd.read_csv(\"data/wikiner_dataset\", sep='/n', header=None, index_col = False)\n",
    "data.shape"
   ]
  },
  {
   "cell_type": "code",
   "execution_count": 3,
   "id": "62f32b6c",
   "metadata": {},
   "outputs": [],
   "source": [
    "phrases, ners = [], []\n",
    "for d in data[0]:\n",
    "    text = d.split()\n",
    "    p, n = [], []\n",
    "    for t in text:    \n",
    "        word = t.split(\"|\")\n",
    "        p.append(word[0])\n",
    "        n.append(word[2])\n",
    "    phrases.append(' '.join(p))\n",
    "    ners.append(n)"
   ]
  },
  {
   "cell_type": "code",
   "execution_count": 4,
   "id": "aaaabb74",
   "metadata": {},
   "outputs": [
    {
     "name": "stdout",
     "output_type": "stream",
     "text": [
      "+--------------------+\n",
      "|               value|\n",
      "+--------------------+\n",
      "|Il assure à la su...|\n",
      "|En 1905 , il occu...|\n",
      "|Il a formé toute ...|\n",
      "|Il devait diriger...|\n",
      "|Il est notamment ...|\n",
      "|En 1902 , il obti...|\n",
      "|Son étudiant , Hr...|\n",
      "|Ainsi il le dirig...|\n",
      "|L' histoire de l'...|\n",
      "|Après cette décou...|\n",
      "|Carl Friedrich Ga...|\n",
      "|En 1843 , William...|\n",
      "|Georg Frobenius (...|\n",
      "|Les espaces vecto...|\n",
      "|Richard Brauer ( ...|\n",
      "|Les algorithmes d...|\n",
      "|L' algorithmique ...|\n",
      "|Le savant arabe A...|\n",
      "|L' utilisation du...|\n",
      "|Ce découpage est ...|\n",
      "+--------------------+\n",
      "only showing top 20 rows\n",
      "\n"
     ]
    }
   ],
   "source": [
    "from pyspark.sql.types import StringType\n",
    "df = spark.createDataFrame(phrases, StringType())\n",
    "df.show()"
   ]
  },
  {
   "cell_type": "code",
   "execution_count": null,
   "id": "323ac651",
   "metadata": {},
   "outputs": [],
   "source": [
    "# https://towardsdatascience.com/training-a-contextual-spell-checker-for-italian-language-66dda528e4bf\n",
    "assembler = DocumentAssembler()\\\n",
    "     .setInputCol(\"value\")\\\n",
    "     .setOutputCol(\"document\")\n",
    "\n",
    "tokenizer = RecursiveTokenizer()\\\n",
    "     .setInputCols(\"document\")\\\n",
    "     .setOutputCol(\"token\")\n",
    "\n",
    "## setLanguageModelClasses \n",
    "## dependent on the vocabulary size, and the model will use it to control the factoring in the language model\n",
    "spellChecker = ContextSpellCheckerApproach()\\\n",
    "    .setInputCols(\"token\")\\\n",
    "    .setOutputCol(\"corrected\")\\\n",
    "    .setLanguageModelClasses(1650)\\\n",
    "    .setWordMaxDistance(3)\\\n",
    "    .setEpochs(10)\n",
    "    \n",
    "pipeline = Pipeline(\n",
    " stages = [\n",
    "    assembler,\n",
    "    tokenizer,\n",
    "    spellChecker\n",
    " ])\n",
    "model = pipeline.fit(df)"
   ]
  },
  {
   "cell_type": "code",
   "execution_count": null,
   "id": "8beb965c",
   "metadata": {},
   "outputs": [],
   "source": [
    "model.annotate(\"J'habitte à Allee Alfred Rocheray\")"
   ]
  }
 ],
 "metadata": {
  "kernelspec": {
   "display_name": "Python 3",
   "language": "python",
   "name": "python3"
  },
  "language_info": {
   "codemirror_mode": {
    "name": "ipython",
    "version": 3
   },
   "file_extension": ".py",
   "mimetype": "text/x-python",
   "name": "python",
   "nbconvert_exporter": "python",
   "pygments_lexer": "ipython3",
   "version": "3.8.8"
  }
 },
 "nbformat": 4,
 "nbformat_minor": 5
}
