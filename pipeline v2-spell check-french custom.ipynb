{
 "cells": [
  {
   "cell_type": "code",
   "execution_count": null,
   "id": "17275221",
   "metadata": {},
   "outputs": [],
   "source": [
    "import pandas as pd\n",
    "import pyspark.sql.functions as F\n",
    "from pyspark.sql.window import Window\n",
    "from sparknlp.annotator import *\n",
    "from sparknlp.base import *\n",
    "import sparknlp\n",
    "from sparknlp.pretrained import PretrainedPipeline\n",
    "\n",
    "spark = sparknlp.start(gpu = True)"
   ]
  },
  {
   "cell_type": "code",
   "execution_count": null,
   "id": "4d7dc6b2",
   "metadata": {},
   "outputs": [],
   "source": [
    "data = pd.read_csv(\"data/wikiner_dataset\", sep='/n', header=None, index_col = False)\n",
    "data.shape"
   ]
  },
  {
   "cell_type": "code",
   "execution_count": null,
   "id": "62f32b6c",
   "metadata": {},
   "outputs": [],
   "source": [
    "phrases, ners = [], []\n",
    "for d in data[0]:\n",
    "    text = d.split()\n",
    "    p, n = [], []\n",
    "    for t in text:    \n",
    "        word = t.split(\"|\")\n",
    "        p.append(word[0])\n",
    "        n.append(word[2])\n",
    "    phrases.append(' '.join(p))\n",
    "    ners.append(n)"
   ]
  },
  {
   "cell_type": "code",
   "execution_count": null,
   "id": "aaaabb74",
   "metadata": {},
   "outputs": [],
   "source": [
    "from pyspark.sql.types import StringType\n",
    "df = spark.createDataFrame(phrases, StringType())\n",
    "df.show()"
   ]
  },
  {
   "cell_type": "code",
   "execution_count": null,
   "id": "323ac651",
   "metadata": {},
   "outputs": [],
   "source": [
    "# https://towardsdatascience.com/training-a-contextual-spell-checker-for-italian-language-66dda528e4bf\n",
    "assembler = DocumentAssembler()\\\n",
    "     .setInputCol(\"value\")\\\n",
    "     .setOutputCol(\"document\")\n",
    "\n",
    "tokenizer = RecursiveTokenizer()\\\n",
    "     .setInputCols(\"document\")\\\n",
    "     .setOutputCol(\"token\")\n",
    "\n",
    "## setLanguageModelClasses \n",
    "## dependent on the vocabulary size, and the model will use it to control the factoring in the language model\n",
    "spellChecker = ContextSpellCheckerApproach()\\\n",
    "    .setInputCols(\"token\")\\\n",
    "    .setOutputCol(\"corrected\")\\\n",
    "    .setLanguageModelClasses(1650)\\\n",
    "    .setWordMaxDistance(3)\\\n",
    "    .setEpochs(10)\n",
    "    \n",
    "pipeline = Pipeline(\n",
    " stages = [\n",
    "    assembler,\n",
    "    tokenizer,\n",
    "    spellChecker\n",
    " ])\n",
    "model = pipeline.fit(df)"
   ]
  },
  {
   "cell_type": "code",
   "execution_count": null,
   "id": "8beb965c",
   "metadata": {},
   "outputs": [],
   "source": [
    "model.annotate(\"J'habitte à Allee Alfred Rocheray\")"
   ]
  }
 ],
 "metadata": {
  "kernelspec": {
   "display_name": "Python 3",
   "language": "python",
   "name": "python3"
  },
  "language_info": {
   "codemirror_mode": {
    "name": "ipython",
    "version": 3
   },
   "file_extension": ".py",
   "mimetype": "text/x-python",
   "name": "python",
   "nbconvert_exporter": "python",
   "pygments_lexer": "ipython3",
   "version": "3.8.8"
  }
 },
 "nbformat": 4,
 "nbformat_minor": 5
}
