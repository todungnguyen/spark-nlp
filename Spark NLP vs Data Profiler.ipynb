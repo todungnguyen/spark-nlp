{
 "cells": [
  {
   "cell_type": "markdown",
   "metadata": {
    "id": "_HlpwOSoTANQ"
   },
   "source": [
    "# Setup"
   ]
  },
  {
   "cell_type": "code",
   "execution_count": 1,
   "metadata": {
    "executionInfo": {
     "elapsed": 662,
     "status": "ok",
     "timestamp": 1635424554525,
     "user": {
      "displayName": "To Dung NGUYEN",
      "photoUrl": "https://lh3.googleusercontent.com/a/default-user=s64",
      "userId": "09013017916719082062"
     },
     "user_tz": -120
    },
    "id": "QX84zpsOCdWx"
   },
   "outputs": [],
   "source": [
    "import sparknlp\n",
    "from sparknlp.base import *\n",
    "from sparknlp.annotator import *\n",
    "from sparknlp.pretrained import PretrainedPipeline\n",
    "from sparknlp.base import LightPipeline\n",
    "import pyspark.sql.functions as F\n",
    "from pyspark.sql import Row\n",
    "\n",
    "import os\n",
    "import json\n",
    "import numpy as ny\n",
    "import pandas as pd\n",
    "import dataprofiler as dp\n",
    "import matplotlib.pyplot as plt\n",
    "path=\"data/data_set_fusion.csv\""
   ]
  },
  {
   "cell_type": "code",
   "execution_count": 2,
   "metadata": {
    "colab": {
     "base_uri": "https://localhost:8080/"
    },
    "executionInfo": {
     "elapsed": 13372,
     "status": "ok",
     "timestamp": 1635424567895,
     "user": {
      "displayName": "To Dung NGUYEN",
      "photoUrl": "https://lh3.googleusercontent.com/a/default-user=s64",
      "userId": "09013017916719082062"
     },
     "user_tz": -120
    },
    "id": "eTzGdSWGCiQ6",
    "outputId": "2db03d4a-b5b3-4fc5-a425-5d2d7a6c6030"
   },
   "outputs": [
    {
     "name": "stdout",
     "output_type": "stream",
     "text": [
      "Spark NLP version: 3.3.2\n",
      "Apache Spark version: 3.1.2\n"
     ]
    }
   ],
   "source": [
    "spark = sparknlp.start()\n",
    "print(\"Spark NLP version: {}\".format(sparknlp.version()))\n",
    "print(\"Apache Spark version: {}\".format(spark.version))"
   ]
  },
  {
   "cell_type": "markdown",
   "metadata": {},
   "source": [
    "### réussi de télécharger modèle en local sans problème"
   ]
  },
  {
   "cell_type": "code",
   "execution_count": 3,
   "metadata": {
    "colab": {
     "base_uri": "https://localhost:8080/"
    },
    "executionInfo": {
     "elapsed": 61089,
     "status": "ok",
     "timestamp": 1635424628971,
     "user": {
      "displayName": "To Dung NGUYEN",
      "photoUrl": "https://lh3.googleusercontent.com/a/default-user=s64",
      "userId": "09013017916719082062"
     },
     "user_tz": -120
    },
    "id": "g-P_2-lDClDN",
    "outputId": "191b3b26-1cec-455e-d744-e51b5d7be20f"
   },
   "outputs": [
    {
     "name": "stdout",
     "output_type": "stream",
     "text": [
      "entity_recognizer_md download started this may take some time.\n",
      "Approx size to download 443.9 MB\n",
      "[OK!]\n"
     ]
    }
   ],
   "source": [
    "pipeline = PretrainedPipeline('entity_recognizer_md', lang = 'fr')\n",
    "#pipeline = PretrainedPipeline.from_disk('entity_recognizer_md_fr')"
   ]
  },
  {
   "cell_type": "markdown",
   "metadata": {
    "id": "BrwhwfrJTGTp"
   },
   "source": [
    "# Spark NLP"
   ]
  },
  {
   "cell_type": "code",
   "execution_count": 4,
   "metadata": {
    "executionInfo": {
     "elapsed": 29,
     "status": "ok",
     "timestamp": 1635424628973,
     "user": {
      "displayName": "To Dung NGUYEN",
      "photoUrl": "https://lh3.googleusercontent.com/a/default-user=s64",
      "userId": "09013017916719082062"
     },
     "user_tz": -120
    },
    "id": "ZFOMADy-P0WC"
   },
   "outputs": [],
   "source": [
    "# transfer list of Row into list of True (detected >= 2/3) and False (non detected)\n",
    "def getResultSNLP(list_ner, entity):\n",
    "    result_snlp = []\n",
    "    for ner in list_ner:\n",
    "        cpt = 0\n",
    "        for i in range(len(ner.ner)):\n",
    "            if entity in ner.ner[i]:\n",
    "                cpt += 1\n",
    "        result_snlp.append(cpt/len(ner.ner) >= 2/3)\n",
    "    return result_snlp"
   ]
  },
  {
   "cell_type": "code",
   "execution_count": 5,
   "metadata": {
    "executionInfo": {
     "elapsed": 27,
     "status": "ok",
     "timestamp": 1635424628974,
     "user": {
      "displayName": "To Dung NGUYEN",
      "photoUrl": "https://lh3.googleusercontent.com/a/default-user=s64",
      "userId": "09013017916719082062"
     },
     "user_tz": -120
    },
    "id": "IGykXuavCr4j"
   },
   "outputs": [],
   "source": [
    "def runSparkNLP(data, entity):\n",
    "    annotations = pipeline.transform(data)\n",
    "    # annotations.show(n=30, truncate=False)\n",
    "    list_ner = annotations.selectExpr(\"ner.result AS ner\").collect() # list of Row (each Row is list of entity detected)\n",
    "    return getResultSNLP(list_ner, entity)"
   ]
  },
  {
   "cell_type": "markdown",
   "metadata": {
    "id": "G1Vltv8TUUYj"
   },
   "source": [
    "# Data Profiler"
   ]
  },
  {
   "cell_type": "code",
   "execution_count": 6,
   "metadata": {
    "executionInfo": {
     "elapsed": 25,
     "status": "ok",
     "timestamp": 1635424628974,
     "user": {
      "displayName": "To Dung NGUYEN",
      "photoUrl": "https://lh3.googleusercontent.com/a/default-user=s64",
      "userId": "09013017916719082062"
     },
     "user_tz": -120
    },
    "id": "dTsFZgMkjshF"
   },
   "outputs": [],
   "source": [
    "def runDataProfiler(data, entity):\n",
    "    labeler = dp.DataLabeler(labeler_type='structured')\n",
    "    predictions = labeler.predict(data)\n",
    "    result_dp = [p == entity for p in predictions['pred']]\n",
    "    return result_dp"
   ]
  },
  {
   "cell_type": "markdown",
   "metadata": {
    "id": "iGNMFampV2pu"
   },
   "source": [
    "# Comparaison \n",
    "### cas une colonnes contient un type d'information unique - PER, LOC, etc <=> on n'a que Positive, aucun Negative"
   ]
  },
  {
   "cell_type": "code",
   "execution_count": 7,
   "metadata": {
    "executionInfo": {
     "elapsed": 397,
     "status": "ok",
     "timestamp": 1635432172461,
     "user": {
      "displayName": "To Dung NGUYEN",
      "photoUrl": "https://lh3.googleusercontent.com/a/default-user=s64",
      "userId": "09013017916719082062"
     },
     "user_tz": -120
    },
    "id": "oH1FHcmWXXBR"
   },
   "outputs": [],
   "source": [
    "def comparaison(result_snlp, result_dp):\n",
    "    result_list = {'both': 0, 'snlp': 0, 'dp': 0, 'none': 0}\n",
    "    for i in range(len(result_snlp)):\n",
    "        if result_snlp[i]:\n",
    "            if result_dp[i]: result_list['both'] += 1\n",
    "            else: result_list['snlp'] += 1\n",
    "        else:\n",
    "            if result_dp[i]: result_list['dp'] += 1\n",
    "            else: result_list['none'] += 1\n",
    "\n",
    "    print(result_list)\n",
    "    plt.pie(list(result_list.values()), labels = list(result_list.keys()))\n",
    "    plt.legend(title = \"Detection Rate\")\n",
    "    plt.show()\n",
    "\n",
    "    recall_snlp = result_snlp.count(True) / len(result_snlp)\n",
    "    recall_dp = result_dp.count(True) / len(result_dp)\n",
    "    print(\"Recall Spark NLP:\", recall_snlp)\n",
    "    print(\"Recall Data Profiler:\", recall_dp)\n",
    "    recall = [recall_snlp, recall_dp]\n",
    "    plt.bar([\"Spark NLP\", \"Data Profiler\"], recall)\n",
    "    plt.ylabel('Recall')\n",
    "    plt.show()"
   ]
  },
  {
   "cell_type": "code",
   "execution_count": 8,
   "metadata": {
    "executionInfo": {
     "elapsed": 7,
     "status": "ok",
     "timestamp": 1635432172793,
     "user": {
      "displayName": "To Dung NGUYEN",
      "photoUrl": "https://lh3.googleusercontent.com/a/default-user=s64",
      "userId": "09013017916719082062"
     },
     "user_tz": -120
    },
    "id": "2NjEo7mx4eSV"
   },
   "outputs": [],
   "source": [
    "def getResult(column, entity_snlp, entity_dp):\n",
    "    df_spark = spark.read.format(\"csv\").option(\"header\",\"true\").option(\"inferSchema\",\"true\").load(path)\n",
    "    data = df_spark.select(column).toDF(\"text\")\n",
    "    result_snlp = runSparkNLP(data, entity_snlp)\n",
    "\n",
    "    data = dp.Data(path, options=dict(selected_columns=[column]))\n",
    "    result_dp =  runDataProfiler(data, entity_dp)\n",
    "    return result_snlp, result_dp"
   ]
  },
  {
   "cell_type": "markdown",
   "metadata": {
    "id": "urie5XKHp5q9"
   },
   "source": [
    "## nom"
   ]
  },
  {
   "cell_type": "code",
   "execution_count": 9,
   "metadata": {
    "colab": {
     "base_uri": "https://localhost:8080/"
    },
    "executionInfo": {
     "elapsed": 92521,
     "status": "ok",
     "timestamp": 1635432265308,
     "user": {
      "displayName": "To Dung NGUYEN",
      "photoUrl": "https://lh3.googleusercontent.com/a/default-user=s64",
      "userId": "09013017916719082062"
     },
     "user_tz": -120
    },
    "id": "A7w3OXCoqHQ4",
    "outputId": "1ee556bb-c362-4aad-f421-24eac2fb1663"
   },
   "outputs": [
    {
     "name": "stdout",
     "output_type": "stream",
     "text": [
      "WARNING:tensorflow:SavedModel saved prior to TF 2.5 detected when loading Keras model. Please ensure that you are saving the model with model.save() or tf.keras.models.save_model(), *NOT* tf.saved_model.save(). To confirm, there should be a file named \"keras_metadata.pb\" in the SavedModel directory.\n"
     ]
    }
   ],
   "source": [
    "result_snlp, result_dp = getResult('nom', 'PER', 'PERSON')"
   ]
  },
  {
   "cell_type": "code",
   "execution_count": 10,
   "metadata": {
    "colab": {
     "base_uri": "https://localhost:8080/",
     "height": 0
    },
    "executionInfo": {
     "elapsed": 16,
     "status": "ok",
     "timestamp": 1635432265311,
     "user": {
      "displayName": "To Dung NGUYEN",
      "photoUrl": "https://lh3.googleusercontent.com/a/default-user=s64",
      "userId": "09013017916719082062"
     },
     "user_tz": -120
    },
    "id": "rTxHcUu6nzWP",
    "outputId": "1076d24a-c816-4d48-d711-ee1c81afbd1c"
   },
   "outputs": [
    {
     "name": "stdout",
     "output_type": "stream",
     "text": [
      "{'both': 8625, 'snlp': 29227, 'dp': 344, 'none': 1800}\n"
     ]
    },
    {
     "data": {
      "image/png": "[encoded data removed]",
      "text/plain": [
       "<Figure size 432x288 with 1 Axes>"
      ]
     },
     "metadata": {},
     "output_type": "display_data"
    },
    {
     "name": "stdout",
     "output_type": "stream",
     "text": [
      "Recall Spark NLP: 0.9463946394639464\n",
      "Recall Data Profiler: 0.22424742474247425\n"
     ]
    },
    {
     "data": {
      "image/png": "[encoded data removed]",
      "text/plain": [
       "<Figure size 432x288 with 1 Axes>"
      ]
     },
     "metadata": {
      "needs_background": "light"
     },
     "output_type": "display_data"
    }
   ],
   "source": [
    "comparaison(result_snlp, result_dp)"
   ]
  },
  {
   "cell_type": "markdown",
   "metadata": {
    "id": "sTnEzw1Pp-Pl"
   },
   "source": [
    "## adresse"
   ]
  },
  {
   "cell_type": "code",
   "execution_count": 11,
   "metadata": {
    "colab": {
     "base_uri": "https://localhost:8080/"
    },
    "executionInfo": {
     "elapsed": 1216,
     "status": "ok",
     "timestamp": 1635432266518,
     "user": {
      "displayName": "To Dung NGUYEN",
      "photoUrl": "https://lh3.googleusercontent.com/a/default-user=s64",
      "userId": "09013017916719082062"
     },
     "user_tz": -120
    },
    "id": "2mYEuyEMChyZ",
    "outputId": "3221749b-fb7b-443f-fd46-fc7098a5b17a"
   },
   "outputs": [
    {
     "name": "stdout",
     "output_type": "stream",
     "text": [
      "+---------------------------------------------------------------------------+----------------------------------------------------------------+\n",
      "|token                                                                      |ner                                                             |\n",
      "+---------------------------------------------------------------------------+----------------------------------------------------------------+\n",
      "|[6, Place, du, Pese, Lait, 1640, L'Abergement-de-Varey]                    |[O, I-MISC, I-MISC, I-MISC, I-MISC, I-MISC, I-MISC]             |\n",
      "|[1, Les, Granges, 1640, L'Abergement-de-Varey]                             |[O, O, I-MISC, I-MISC, I-MISC]                                  |\n",
      "|[2, Les, Granges, 1640, L'Abergement-de-Varey]                             |[O, O, I-MISC, I-MISC, I-MISC]                                  |\n",
      "|[10, Les, Granges, 1640, L'Abergement-de-Varey]                            |[O, O, I-MISC, I-MISC, I-MISC]                                  |\n",
      "|[1082, Chemin, de, la, Ferm, de, la, Montagne, 1640, L'Abergement-de-Varey]|[O, I-PER, O, O, I-MISC, I-MISC, I-MISC, I-MISC, I-MISC, I-MISC]|\n",
      "|[1083, Chemin, de, la, Ferm, de, la, Montagne, 1640, L'Abergement-de-Varey]|[O, I-PER, O, O, I-MISC, I-MISC, I-MISC, I-MISC, I-MISC, I-MISC]|\n",
      "|[291, La, Forêt, 1640, L'Abergement-de-Varey]                              |[O, O, I-MISC, I-MISC, I-MISC]                                  |\n",
      "|[844, Sous, Terrea, 1640, L'Abergement-de-Varey]                           |[O, O, I-MISC, I-MISC, I-MISC]                                  |\n",
      "|[1405, Dalivoy, 1640, L'Abergement-de-Varey]                               |[O, I-MISC, I-MISC, I-MISC]                                     |\n",
      "|[1423, Dalivoy, 1640, L'Abergement-de-Varey]                               |[O, I-MISC, I-MISC, I-MISC]                                     |\n",
      "|[1082, Aux, Traverses, 1640, L'Abergement-de-Varey]                        |[O, O, I-LOC, O, I-LOC]                                         |\n",
      "|[1083, Aux, Traverses, 1640, L'Abergement-de-Varey]                        |[O, O, I-MISC, I-MISC, I-MISC]                                  |\n",
      "|[270, La, Cordiere, 1640, L'Abergement-de-Varey]                           |[O, O, I-LOC, O, I-LOC]                                         |\n",
      "|[804, Preillon, 1640, L'Abergement-de-Varey]                               |[O, I-MISC, I-MISC, I-MISC]                                     |\n",
      "|[16, Montee, de, la, Foret, 1640, L'Abergement-de-Varey]                   |[O, I-LOC, O, O, I-MISC, I-MISC, I-MISC]                        |\n",
      "|[22, Montee, de, la, Foret, 1640, L'Abergement-de-Varey]                   |[O, I-LOC, O, O, I-MISC, I-MISC, I-MISC]                        |\n",
      "|[26, Montee, de, la, Foret, 1640, L'Abergement-de-Varey]                   |[O, I-LOC, O, O, I-MISC, I-MISC, I-MISC]                        |\n",
      "|[30, Montee, de, la, Foret, 1640, L'Abergement-de-Varey]                   |[O, I-LOC, O, O, I-MISC, I-MISC, I-MISC]                        |\n",
      "|[37, Montee, de, la, Foret, 1640, L'Abergement-de-Varey]                   |[O, I-LOC, O, O, I-LOC, I-LOC, I-LOC]                           |\n",
      "|[44, Montee, de, la, Foret, 1640, L'Abergement-de-Varey]                   |[O, I-LOC, O, O, I-LOC, I-LOC, I-LOC]                           |\n",
      "+---------------------------------------------------------------------------+----------------------------------------------------------------+\n",
      "only showing top 20 rows\n",
      "\n"
     ]
    }
   ],
   "source": [
    "df_spark = spark.read.format(\"csv\").option(\"header\",\"true\").option(\"inferSchema\",\"true\").load(path)\n",
    "annotations = pipeline.transform(df_spark.select('adresse').toDF(\"text\"))\n",
    "annotations = annotations.selectExpr(\"token.result AS token\", \"ner.result AS ner\")\n",
    "annotations.show(truncate=False)"
   ]
  },
  {
   "cell_type": "code",
   "execution_count": 12,
   "metadata": {
    "colab": {
     "base_uri": "https://localhost:8080/"
    },
    "executionInfo": {
     "elapsed": 115566,
     "status": "ok",
     "timestamp": 1635432382078,
     "user": {
      "displayName": "To Dung NGUYEN",
      "photoUrl": "https://lh3.googleusercontent.com/a/default-user=s64",
      "userId": "09013017916719082062"
     },
     "user_tz": -120
    },
    "id": "8cnHCKdlq46O",
    "outputId": "0946fa93-be12-4482-822d-7e058ffbb66e"
   },
   "outputs": [
    {
     "name": "stdout",
     "output_type": "stream",
     "text": [
      "WARNING:tensorflow:SavedModel saved prior to TF 2.5 detected when loading Keras model. Please ensure that you are saving the model with model.save() or tf.keras.models.save_model(), *NOT* tf.saved_model.save(). To confirm, there should be a file named \"keras_metadata.pb\" in the SavedModel directory.\n"
     ]
    }
   ],
   "source": [
    "result_snlp, result_dp = getResult('adresse', 'LOC', 'ADDRESSE')"
   ]
  },
  {
   "cell_type": "code",
   "execution_count": 13,
   "metadata": {
    "colab": {
     "base_uri": "https://localhost:8080/",
     "height": 0
    },
    "executionInfo": {
     "elapsed": 13,
     "status": "ok",
     "timestamp": 1635432382080,
     "user": {
      "displayName": "To Dung NGUYEN",
      "photoUrl": "https://lh3.googleusercontent.com/a/default-user=s64",
      "userId": "09013017916719082062"
     },
     "user_tz": -120
    },
    "id": "mVxL7n4qoaZ2",
    "outputId": "3a42cdc0-2de2-4f8a-fef7-919d79029b2f"
   },
   "outputs": [
    {
     "name": "stdout",
     "output_type": "stream",
     "text": [
      "{'both': 0, 'snlp': 17075, 'dp': 0, 'none': 22921}\n"
     ]
    },
    {
     "data": {
      "image/png": "[encoded data removed]",
      "text/plain": [
       "<Figure size 432x288 with 1 Axes>"
      ]
     },
     "metadata": {},
     "output_type": "display_data"
    },
    {
     "name": "stdout",
     "output_type": "stream",
     "text": [
      "Recall Spark NLP: 0.42691769176917693\n",
      "Recall Data Profiler: 0.0\n"
     ]
    },
    {
     "data": {
      "image/png": "[encoded data removed]",
      "text/plain": [
       "<Figure size 432x288 with 1 Axes>"
      ]
     },
     "metadata": {
      "needs_background": "light"
     },
     "output_type": "display_data"
    }
   ],
   "source": [
    "comparaison(result_snlp, result_dp)"
   ]
  },
  {
   "cell_type": "markdown",
   "metadata": {
    "id": "-EI2aF9bvn60"
   },
   "source": [
    "# Cas mélange 2 colonnes\n",
    "\n"
   ]
  },
  {
   "cell_type": "code",
   "execution_count": 14,
   "metadata": {
    "colab": {
     "base_uri": "https://localhost:8080/",
     "height": 419
    },
    "executionInfo": {
     "elapsed": 615,
     "status": "ok",
     "timestamp": 1635430378460,
     "user": {
      "displayName": "To Dung NGUYEN",
      "photoUrl": "https://lh3.googleusercontent.com/a/default-user=s64",
      "userId": "09013017916719082062"
     },
     "user_tz": -120
    },
    "id": "AtFCx8g-16CW",
    "outputId": "6b5f83f7-a294-44e3-be6c-1eb8db121c46"
   },
   "outputs": [
    {
     "data": {
      "text/html": [
       "<div>\n",
       "<style scoped>\n",
       "    .dataframe tbody tr th:only-of-type {\n",
       "        vertical-align: middle;\n",
       "    }\n",
       "\n",
       "    .dataframe tbody tr th {\n",
       "        vertical-align: top;\n",
       "    }\n",
       "\n",
       "    .dataframe thead th {\n",
       "        text-align: right;\n",
       "    }\n",
       "</style>\n",
       "<table border=\"1\" class=\"dataframe\">\n",
       "  <thead>\n",
       "    <tr style=\"text-align: right;\">\n",
       "      <th></th>\n",
       "      <th>data</th>\n",
       "      <th>class</th>\n",
       "    </tr>\n",
       "  </thead>\n",
       "  <tbody>\n",
       "    <tr>\n",
       "      <th>2392</th>\n",
       "      <td>8 Rue Aristide Briand 1500 Ambérieu-en-Bugey</td>\n",
       "      <td>LOC</td>\n",
       "    </tr>\n",
       "    <tr>\n",
       "      <th>2927</th>\n",
       "      <td>Mariem Sarmiento</td>\n",
       "      <td>PER</td>\n",
       "    </tr>\n",
       "    <tr>\n",
       "      <th>4428</th>\n",
       "      <td>Reverien Mizuno</td>\n",
       "      <td>PER</td>\n",
       "    </tr>\n",
       "    <tr>\n",
       "      <th>4658</th>\n",
       "      <td>Merveille Moons</td>\n",
       "      <td>PER</td>\n",
       "    </tr>\n",
       "    <tr>\n",
       "      <th>9707</th>\n",
       "      <td>2612 Chemin de Tanvol 1440 Viriat</td>\n",
       "      <td>LOC</td>\n",
       "    </tr>\n",
       "    <tr>\n",
       "      <th>...</th>\n",
       "      <td>...</td>\n",
       "      <td>...</td>\n",
       "    </tr>\n",
       "    <tr>\n",
       "      <th>6393</th>\n",
       "      <td>Ding Serdarov</td>\n",
       "      <td>PER</td>\n",
       "    </tr>\n",
       "    <tr>\n",
       "      <th>19830</th>\n",
       "      <td>170 Lotissement Genévriers les Coudriers 1210 ...</td>\n",
       "      <td>LOC</td>\n",
       "    </tr>\n",
       "    <tr>\n",
       "      <th>19751</th>\n",
       "      <td>Maddie Waage</td>\n",
       "      <td>PER</td>\n",
       "    </tr>\n",
       "    <tr>\n",
       "      <th>3860</th>\n",
       "      <td>Evens Dikgang</td>\n",
       "      <td>PER</td>\n",
       "    </tr>\n",
       "    <tr>\n",
       "      <th>7048</th>\n",
       "      <td>133 Rue Georges Lafay 1540 Vonnas</td>\n",
       "      <td>LOC</td>\n",
       "    </tr>\n",
       "  </tbody>\n",
       "</table>\n",
       "<p>40000 rows × 2 columns</p>\n",
       "</div>"
      ],
      "text/plain": [
       "                                                    data class\n",
       "2392        8 Rue Aristide Briand 1500 Ambérieu-en-Bugey   LOC\n",
       "2927                                    Mariem Sarmiento   PER\n",
       "4428                                     Reverien Mizuno   PER\n",
       "4658                                     Merveille Moons   PER\n",
       "9707                   2612 Chemin de Tanvol 1440 Viriat   LOC\n",
       "...                                                  ...   ...\n",
       "6393                                       Ding Serdarov   PER\n",
       "19830  170 Lotissement Genévriers les Coudriers 1210 ...   LOC\n",
       "19751                                       Maddie Waage   PER\n",
       "3860                                       Evens Dikgang   PER\n",
       "7048                   133 Rue Georges Lafay 1540 Vonnas   LOC\n",
       "\n",
       "[40000 rows x 2 columns]"
      ]
     },
     "execution_count": 14,
     "metadata": {},
     "output_type": "execute_result"
    }
   ],
   "source": [
    "import random\n",
    "\n",
    "n = 20000 # prendre n lignes chacun\n",
    "\n",
    "df = pd.read_csv(path)\n",
    "fusion_data = pd.DataFrame()\n",
    "fusion_data['data'] = pd.concat([df['nom'][:n], df['adresse'][:n]])\n",
    "fusion_data['class'] = ['PER']*n + ['LOC']*n\n",
    "fusion_data = fusion_data.sample(frac=1)\n",
    "\n",
    "from pyspark.sql.types import StringType\n",
    "fusion_data_snlp = spark.createDataFrame(fusion_data['data'].tolist(), StringType()).toDF('text')\n",
    "fusion_data"
   ]
  },
  {
   "cell_type": "code",
   "execution_count": 15,
   "metadata": {
    "colab": {
     "base_uri": "https://localhost:8080/"
    },
    "executionInfo": {
     "elapsed": 1449,
     "status": "ok",
     "timestamp": 1635430383901,
     "user": {
      "displayName": "To Dung NGUYEN",
      "photoUrl": "https://lh3.googleusercontent.com/a/default-user=s64",
      "userId": "09013017916719082062"
     },
     "user_tz": -120
    },
    "id": "wKNHSiuZBdk-",
    "outputId": "ce294485-6062-4cce-e428-9c71285939b4"
   },
   "outputs": [
    {
     "name": "stdout",
     "output_type": "stream",
     "text": [
      "+----------------------------------------------------------+------------------------------------------------+\n",
      "|token                                                     |ner                                             |\n",
      "+----------------------------------------------------------+------------------------------------------------+\n",
      "|[8, Rue, Aristide, Briand, 1500, Ambérieu-en-Bugey]       |[O, I-LOC, I-PER, I-PER, I-PER, I-PER]          |\n",
      "|[Mariem, Sarmiento]                                       |[I-PER, I-PER]                                  |\n",
      "|[Reverien, Mizuno]                                        |[I-PER, I-PER]                                  |\n",
      "|[Merveille, Moons]                                        |[I-MISC, I-MISC]                                |\n",
      "|[2612, Chemin, de, Tanvol, 1440, Viriat]                  |[O, I-MISC, I-MISC, I-MISC, I-MISC, I-MISC]     |\n",
      "|[26, Rue, Marcel, et, Ida, Demia, 1500, Ambérieu-en-Bugey]|[O, I-PER, I-PER, O, I-PER, I-PER, I-PER, I-PER]|\n",
      "|[3, Rue, Jean, Macé, 1500, Ambérieu-en-Bugey]             |[O, I-LOC, I-PER, I-PER, I-PER, I-PER]          |\n",
      "|[Viktoría, Vitiello]                                      |[I-PER, I-PER]                                  |\n",
      "|[Viviene, Krall]                                          |[I-PER, I-PER]                                  |\n",
      "|[Yolette, Suryani]                                        |[I-PER, I-PER]                                  |\n",
      "|[179, Rue, de, Vareilles, 1500, Ambérieu-en-Bugey]        |[O, I-LOC, I-LOC, I-LOC, I-LOC, I-LOC]          |\n",
      "|[Kamariza, Gagliardi]                                     |[I-PER, I-PER]                                  |\n",
      "|[Lazare, Schippers]                                       |[I-PER, I-PER]                                  |\n",
      "|[518, Chemin, du, Quartier, Jayr, 1440, Viriat]           |[O, I-LOC, O, I-LOC, I-LOC, O, I-LOC]           |\n",
      "|[Lillemor, Makowski]                                      |[I-PER, I-PER]                                  |\n",
      "|[Solanki, Misevičiūtė]                                    |[I-PER, I-PER]                                  |\n",
      "|[Josep, Bernhard]                                         |[I-PER, I-PER]                                  |\n",
      "|[Bapi, Anes]                                              |[I-PER, I-PER]                                  |\n",
      "|[64, Route, de, Bourg, 1440, Viriat]                      |[I-MISC, I-MISC, I-MISC, I-MISC, I-MISC, I-MISC]|\n",
      "|[9, Allee, des, Peupliers, 1440, Viriat]                  |[O, I-LOC, I-LOC, I-LOC, I-LOC, I-LOC]          |\n",
      "+----------------------------------------------------------+------------------------------------------------+\n",
      "only showing top 20 rows\n",
      "\n"
     ]
    }
   ],
   "source": [
    "annotations = pipeline.transform(fusion_data_snlp)\n",
    "annotations = annotations.selectExpr(\"token.result AS token\", \"ner.result AS ner\")\n",
    "annotations.show(truncate=False)"
   ]
  },
  {
   "cell_type": "code",
   "execution_count": 16,
   "metadata": {},
   "outputs": [],
   "source": [
    "def countResult(pred, act):\n",
    "    l = len(act)\n",
    "    tp = [act[i] == pred[i] == True for i in range(l)]\n",
    "    fp = [act[i] == False and pred[i] == True for i in range(l)]\n",
    "    tn = [act[i] == pred[i] == False for i in range(l)]\n",
    "    fn = [act[i] == True and pred[i] == False for i in range(l)]\n",
    "    result_count = [tp.count(True), fp.count(True), tn.count(True), fn.count(True)]\n",
    "    print(\"TP: \", result_count[0], \" // FP: \", result_count[1], \" // TN: \", result_count[2], \" // FN: \", result_count[3])\n",
    "    return result_count"
   ]
  },
  {
   "cell_type": "code",
   "execution_count": 17,
   "metadata": {
    "id": "BMsen2qSG1gC"
   },
   "outputs": [],
   "source": [
    "def comparaison2(result_snlp, result_dp, actual_class):\n",
    "    print(\"Count result of SNLP:\")\n",
    "    count_snlp = countResult(result_snlp, actual_class)\n",
    "    print(\"Count result of DP:\")\n",
    "    count_dp = countResult(result_dp, actual_class)\n",
    "    \n",
    "    #Recall = TP/(TP+ FN)\n",
    "    recall_snlp = count_snlp[0] / (count_snlp[0] + count_snlp[3]) if (count_snlp[0] + count_snlp[3]) != 0 else 0\n",
    "    recall_dp = count_dp[0] / (count_dp[0] + count_dp[3]) if (count_dp[0] + count_dp[3]) != 0 else 0\n",
    "    print(\"Recall Spark NLP:\", recall_snlp)\n",
    "    print(\"Recall Data Profiler:\", recall_dp)\n",
    "    recall = [recall_snlp, recall_dp]\n",
    "    plt.bar([\"Spark NLP\", \"Data Profiler\"], recall)\n",
    "    plt.ylabel('Recall')\n",
    "    plt.show()\n",
    "    \n",
    "    #Precision = TP/(TP + FP)\n",
    "    prec_snlp = count_snlp[0] / (count_snlp[0] + count_snlp[1]) if (count_snlp[0] + count_snlp[1]) != 0 else 0\n",
    "    prec_dp = count_dp[0] / (count_dp[0] + count_dp[1]) if (count_dp[0] + count_dp[1]) != 0 else 0\n",
    "    print(\"Precision Spark NLP:\", prec_snlp)\n",
    "    print(\"Precision Data Profiler:\", prec_dp)\n",
    "    precision = [prec_snlp, prec_dp]\n",
    "    plt.bar([\"Spark NLP\", \"Data Profiler\"], precision)\n",
    "    plt.ylabel('Precision')\n",
    "    plt.show()"
   ]
  },
  {
   "cell_type": "markdown",
   "metadata": {
    "id": "iLatTuqKFBgh"
   },
   "source": [
    "## nom"
   ]
  },
  {
   "cell_type": "code",
   "execution_count": 18,
   "metadata": {
    "colab": {
     "base_uri": "https://localhost:8080/",
     "height": 584
    },
    "executionInfo": {
     "elapsed": 112707,
     "status": "ok",
     "timestamp": 1635427274800,
     "user": {
      "displayName": "To Dung NGUYEN",
      "photoUrl": "https://lh3.googleusercontent.com/a/default-user=s64",
      "userId": "09013017916719082062"
     },
     "user_tz": -120
    },
    "id": "YSqmEoCS8XGO",
    "outputId": "c291add0-6a96-4c40-b297-5f682ab6ef86"
   },
   "outputs": [
    {
     "name": "stdout",
     "output_type": "stream",
     "text": [
      "WARNING:tensorflow:SavedModel saved prior to TF 2.5 detected when loading Keras model. Please ensure that you are saving the model with model.save() or tf.keras.models.save_model(), *NOT* tf.saved_model.save(). To confirm, there should be a file named \"keras_metadata.pb\" in the SavedModel directory.\n",
      "Count result of SNLP:\n",
      "TP:  19082  // FP:  1668  // TN:  18332  // FN:  918\n",
      "Count result of DP:\n",
      "TP:  4412  // FP:  296  // TN:  19704  // FN:  15588\n",
      "Recall Spark NLP: 0.9541\n",
      "Recall Data Profiler: 0.2206\n"
     ]
    },
    {
     "data": {
      "image/png": "[encoded data removed]",
      "text/plain": [
       "<Figure size 432x288 with 1 Axes>"
      ]
     },
     "metadata": {
      "needs_background": "light"
     },
     "output_type": "display_data"
    },
    {
     "name": "stdout",
     "output_type": "stream",
     "text": [
      "Precision Spark NLP: 0.9196144578313253\n",
      "Precision Data Profiler: 0.9371282922684792\n"
     ]
    },
    {
     "data": {
      "image/png": "[encoded data removed]",
      "text/plain": [
       "<Figure size 432x288 with 1 Axes>"
      ]
     },
     "metadata": {
      "needs_background": "light"
     },
     "output_type": "display_data"
    }
   ],
   "source": [
    "result_snlp = runSparkNLP(fusion_data_snlp, 'PER')\n",
    "result_dp =  runDataProfiler(fusion_data['data'], 'PERSON')\n",
    "actual_class = [d == 'PER' for d in fusion_data['class']]\n",
    "comparaison2(result_snlp, result_dp, actual_class)"
   ]
  },
  {
   "cell_type": "markdown",
   "metadata": {
    "id": "gHHhVN3hFET_"
   },
   "source": [
    "## adresse"
   ]
  },
  {
   "cell_type": "code",
   "execution_count": 19,
   "metadata": {
    "colab": {
     "base_uri": "https://localhost:8080/",
     "height": 584
    },
    "executionInfo": {
     "elapsed": 112465,
     "status": "ok",
     "timestamp": 1635427387261,
     "user": {
      "displayName": "To Dung NGUYEN",
      "photoUrl": "https://lh3.googleusercontent.com/a/default-user=s64",
      "userId": "09013017916719082062"
     },
     "user_tz": -120
    },
    "id": "5E_BG0kE9yLy",
    "outputId": "7aa9d480-352a-4585-e0ad-d4e5bf4519d3"
   },
   "outputs": [
    {
     "name": "stdout",
     "output_type": "stream",
     "text": [
      "WARNING:tensorflow:SavedModel saved prior to TF 2.5 detected when loading Keras model. Please ensure that you are saving the model with model.save() or tf.keras.models.save_model(), *NOT* tf.saved_model.save(). To confirm, there should be a file named \"keras_metadata.pb\" in the SavedModel directory.\n",
      "Count result of SNLP:\n",
      "TP:  9441  // FP:  235  // TN:  19765  // FN:  10559\n",
      "Count result of DP:\n",
      "TP:  0  // FP:  0  // TN:  20000  // FN:  20000\n",
      "Recall Spark NLP: 0.47205\n",
      "Recall Data Profiler: 0.0\n"
     ]
    },
    {
     "data": {
      "image/png": "[encoded data removed]",
      "text/plain": [
       "<Figure size 432x288 with 1 Axes>"
      ]
     },
     "metadata": {
      "needs_background": "light"
     },
     "output_type": "display_data"
    },
    {
     "name": "stdout",
     "output_type": "stream",
     "text": [
      "Precision Spark NLP: 0.975713104588673\n",
      "Precision Data Profiler: 0\n"
     ]
    },
    {
     "data": {
      "image/png": "[encoded data removed]",
      "text/plain": [
       "<Figure size 432x288 with 1 Axes>"
      ]
     },
     "metadata": {
      "needs_background": "light"
     },
     "output_type": "display_data"
    }
   ],
   "source": [
    "result_snlp = runSparkNLP(fusion_data_snlp, 'LOC')\n",
    "result_dp =  runDataProfiler(fusion_data['data'], 'ADDRESSE')\n",
    "actual_class = [d == 'LOC' for d in fusion_data['class']]\n",
    "comparaison2(result_snlp, result_dp, actual_class)"
   ]
  },
  {
   "cell_type": "markdown",
   "metadata": {},
   "source": [
    "# Spark NLP + Data Profiler"
   ]
  },
  {
   "cell_type": "code",
   "execution_count": 20,
   "metadata": {},
   "outputs": [],
   "source": [
    "def get_structured_results(results):\n",
    "    columns = []\n",
    "    predictions = []\n",
    "    for col_report in results['data_stats']:\n",
    "        columns.append(col_report['column_name'])\n",
    "        predictions.append(col_report['data_label'])\n",
    "        \n",
    "    df_results = pd.DataFrame({'Column' : columns, 'Pred DP' : predictions})\n",
    "    return df_results"
   ]
  },
  {
   "cell_type": "code",
   "execution_count": 21,
   "metadata": {},
   "outputs": [
    {
     "data": {
      "text/html": [
       "<div>\n",
       "<style scoped>\n",
       "    .dataframe tbody tr th:only-of-type {\n",
       "        vertical-align: middle;\n",
       "    }\n",
       "\n",
       "    .dataframe tbody tr th {\n",
       "        vertical-align: top;\n",
       "    }\n",
       "\n",
       "    .dataframe thead th {\n",
       "        text-align: right;\n",
       "    }\n",
       "</style>\n",
       "<table border=\"1\" class=\"dataframe\">\n",
       "  <thead>\n",
       "    <tr style=\"text-align: right;\">\n",
       "      <th></th>\n",
       "      <th>type_de_carte</th>\n",
       "      <th>numero_de_carte</th>\n",
       "      <th>iban</th>\n",
       "      <th>nom</th>\n",
       "      <th>tel</th>\n",
       "      <th>email</th>\n",
       "      <th>adresse</th>\n",
       "      <th>date</th>\n",
       "    </tr>\n",
       "  </thead>\n",
       "  <tbody>\n",
       "    <tr>\n",
       "      <th>0</th>\n",
       "      <td>Visa</td>\n",
       "      <td>4998333238637277</td>\n",
       "      <td>AL55428419020208960868</td>\n",
       "      <td>Ivan Mohamed</td>\n",
       "      <td>+33692972790</td>\n",
       "      <td>iDYjKeJPwUj.OfWk1p@yahoo.com</td>\n",
       "      <td>6 Place du Pese Lait 1640 L'Abergement-de-Varey</td>\n",
       "      <td>2018-10-05 03:03:48</td>\n",
       "    </tr>\n",
       "    <tr>\n",
       "      <th>1</th>\n",
       "      <td>Visa</td>\n",
       "      <td>4532989368815505</td>\n",
       "      <td>XU224328033937652854</td>\n",
       "      <td>Ali Hernandez</td>\n",
       "      <td>+33907982343</td>\n",
       "      <td>1VHbkTUz+CUTb+un@hotmail.com</td>\n",
       "      <td>1 Les Granges 1640 L'Abergement-de-Varey</td>\n",
       "      <td>2020-04-02 04:17:10</td>\n",
       "    </tr>\n",
       "    <tr>\n",
       "      <th>2</th>\n",
       "      <td>Visa</td>\n",
       "      <td>4916767269587027</td>\n",
       "      <td>DK6360606409884633087</td>\n",
       "      <td>Jack Gashi</td>\n",
       "      <td>+33348464665</td>\n",
       "      <td>NfdO++RnYVHTNKWI3@me.io</td>\n",
       "      <td>2 Les Granges 1640 L'Abergement-de-Varey</td>\n",
       "      <td>2020-09-10 01:39:24</td>\n",
       "    </tr>\n",
       "    <tr>\n",
       "      <th>3</th>\n",
       "      <td>Visa</td>\n",
       "      <td>4485065267473279</td>\n",
       "      <td>BR24328056271230216081</td>\n",
       "      <td>Eric Tamm</td>\n",
       "      <td>+33451017552</td>\n",
       "      <td>gz6YlBr+vJrP@yahoo.com</td>\n",
       "      <td>10 Les Granges 1640 L'Abergement-de-Varey</td>\n",
       "      <td>2018-08-22 11:57:48</td>\n",
       "    </tr>\n",
       "    <tr>\n",
       "      <th>4</th>\n",
       "      <td>Visa</td>\n",
       "      <td>4929375970407322</td>\n",
       "      <td>BC7494751232040117367</td>\n",
       "      <td>Mohammed Kumar</td>\n",
       "      <td>0992976429</td>\n",
       "      <td>Wy_OnHf5AZ35ENUlERFH@outlook.fr</td>\n",
       "      <td>1082 Chemin de la Ferm de la Montagne 1640 L'A...</td>\n",
       "      <td>2019-08-16 17:55:11</td>\n",
       "    </tr>\n",
       "  </tbody>\n",
       "</table>\n",
       "</div>"
      ],
      "text/plain": [
       "  type_de_carte   numero_de_carte                    iban             nom  \\\n",
       "0          Visa  4998333238637277  AL55428419020208960868    Ivan Mohamed   \n",
       "1          Visa  4532989368815505    XU224328033937652854   Ali Hernandez   \n",
       "2          Visa  4916767269587027   DK6360606409884633087      Jack Gashi   \n",
       "3          Visa  4485065267473279  BR24328056271230216081       Eric Tamm   \n",
       "4          Visa  4929375970407322   BC7494751232040117367  Mohammed Kumar   \n",
       "\n",
       "            tel                            email  \\\n",
       "0  +33692972790     iDYjKeJPwUj.OfWk1p@yahoo.com   \n",
       "1  +33907982343     1VHbkTUz+CUTb+un@hotmail.com   \n",
       "2  +33348464665          NfdO++RnYVHTNKWI3@me.io   \n",
       "3  +33451017552           gz6YlBr+vJrP@yahoo.com   \n",
       "4    0992976429  Wy_OnHf5AZ35ENUlERFH@outlook.fr   \n",
       "\n",
       "                                             adresse                 date  \n",
       "0    6 Place du Pese Lait 1640 L'Abergement-de-Varey  2018-10-05 03:03:48  \n",
       "1           1 Les Granges 1640 L'Abergement-de-Varey  2020-04-02 04:17:10  \n",
       "2           2 Les Granges 1640 L'Abergement-de-Varey  2020-09-10 01:39:24  \n",
       "3          10 Les Granges 1640 L'Abergement-de-Varey  2018-08-22 11:57:48  \n",
       "4  1082 Chemin de la Ferm de la Montagne 1640 L'A...  2019-08-16 17:55:11  "
      ]
     },
     "execution_count": 21,
     "metadata": {},
     "output_type": "execute_result"
    }
   ],
   "source": [
    "data = dp.Data(path)\n",
    "df_data = data.data\n",
    "df_data.head()"
   ]
  },
  {
   "cell_type": "code",
   "execution_count": 22,
   "metadata": {},
   "outputs": [
    {
     "name": "stdout",
     "output_type": "stream",
     "text": [
      "WARNING:tensorflow:SavedModel saved prior to TF 2.5 detected when loading Keras model. Please ensure that you are saving the model with model.save() or tf.keras.models.save_model(), *NOT* tf.saved_model.save(). To confirm, there should be a file named \"keras_metadata.pb\" in the SavedModel directory.\n",
      "INFO:DataProfiler.profilers.profile_builder: Finding the Null values in the columns...  (with 3 processes)\n"
     ]
    },
    {
     "name": "stderr",
     "output_type": "stream",
     "text": [
      "/Users/todungnguyen/opt/anaconda3/lib/python3.8/site-packages/dataprofiler/profilers/profile_builder.py:1960: UserWarning: The data will be profiled with a sample size of 7999. All statistics will be based on this subsample and not the whole dataset.\n",
      "  warnings.warn(\"The data will be profiled with a sample size of {}. \"\n",
      "100%|██████████| 8/8 [00:02<00:00,  3.15it/s]\n"
     ]
    },
    {
     "name": "stdout",
     "output_type": "stream",
     "text": [
      "INFO:DataProfiler.profilers.profile_builder: Calculating the statistics...  (with 4 processes)\n"
     ]
    },
    {
     "name": "stderr",
     "output_type": "stream",
     "text": [
      " 25%|██▌       | 2/8 [00:02<00:06,  1.05s/it]"
     ]
    },
    {
     "name": "stdout",
     "output_type": "stream",
     "text": [
      "WARNING:tensorflow:5 out of the last 15 calls to <function TensorFlowOpLayer._defun_call at 0x7f9f4465dca0> triggered tf.function retracing. Tracing is expensive and the excessive number of tracings could be due to (1) creating @tf.function repeatedly in a loop, (2) passing tensors with different shapes, (3) passing Python objects instead of tensors. For (1), please define your @tf.function outside of the loop. For (2), @tf.function has experimental_relax_shapes=True option that relaxes argument shapes that can avoid unnecessary retracing. For (3), please refer to https://www.tensorflow.org/guide/function#controlling_retracing and https://www.tensorflow.org/api_docs/python/tf/function for  more details.\n"
     ]
    },
    {
     "name": "stderr",
     "output_type": "stream",
     "text": [
      " 50%|█████     | 4/8 [00:02<00:02,  1.99it/s]"
     ]
    },
    {
     "name": "stdout",
     "output_type": "stream",
     "text": [
      "WARNING:tensorflow:6 out of the last 17 calls to <function TensorFlowOpLayer._defun_call at 0x7f9f4465dca0> triggered tf.function retracing. Tracing is expensive and the excessive number of tracings could be due to (1) creating @tf.function repeatedly in a loop, (2) passing tensors with different shapes, (3) passing Python objects instead of tensors. For (1), please define your @tf.function outside of the loop. For (2), @tf.function has experimental_relax_shapes=True option that relaxes argument shapes that can avoid unnecessary retracing. For (3), please refer to https://www.tensorflow.org/guide/function#controlling_retracing and https://www.tensorflow.org/api_docs/python/tf/function for  more details.\n"
     ]
    },
    {
     "name": "stderr",
     "output_type": "stream",
     "text": [
      "100%|██████████| 8/8 [00:03<00:00,  2.01it/s]\n"
     ]
    }
   ],
   "source": [
    "profiler = dp.Profiler(data)\n",
    "results = profiler.report(report_options={'output_format':'compact'})"
   ]
  },
  {
   "cell_type": "code",
   "execution_count": 23,
   "metadata": {},
   "outputs": [
    {
     "name": "stdout",
     "output_type": "stream",
     "text": [
      "            Column           Pred DP\n",
      "0    type_de_carte           UNKNOWN\n",
      "1  numero_de_carte       CREDIT_CARD\n",
      "2             iban               BAN\n",
      "3              nom           UNKNOWN\n",
      "4              tel  BAN|PHONE_NUMBER\n",
      "5            email     EMAIL_ADDRESS\n",
      "6          adresse           UNKNOWN\n",
      "7             date          DATETIME\n"
     ]
    }
   ],
   "source": [
    "df_result = get_structured_results(results)\n",
    "print(df_result)"
   ]
  },
  {
   "cell_type": "markdown",
   "metadata": {},
   "source": [
    "### ne fait que Spark NLP sur les cols UNKNOWN ou sur tout?"
   ]
  },
  {
   "cell_type": "code",
   "execution_count": 24,
   "metadata": {},
   "outputs": [
    {
     "name": "stdout",
     "output_type": "stream",
     "text": [
      "['type_de_carte', 'nom', 'adresse']\n"
     ]
    }
   ],
   "source": [
    "unknown_cols = []\n",
    "for index, row in df_result.iterrows():\n",
    "    if row['Pred DP'] == 'UNKNOWN':\n",
    "        unknown_cols.append(row['Column'])\n",
    "print(unknown_cols)"
   ]
  },
  {
   "cell_type": "code",
   "execution_count": 25,
   "metadata": {},
   "outputs": [
    {
     "name": "stdout",
     "output_type": "stream",
     "text": [
      "UNKNOWN\n",
      "CREDIT_CARD\n",
      "BAN\n",
      "UNKNOWN\n",
      "BAN|PHONE_NUMBER\n",
      "EMAIL_ADDRESS\n",
      "UNKNOWN\n",
      "DATETIME\n"
     ]
    }
   ],
   "source": [
    "for i in df_result['Pred DP']:\n",
    "    print(i)"
   ]
  },
  {
   "cell_type": "code",
   "execution_count": 26,
   "metadata": {},
   "outputs": [],
   "source": [
    "def getResult2(column):\n",
    "    df_spark = spark.read.format(\"csv\").option(\"header\",\"true\").option(\"inferSchema\",\"true\").load(path)\n",
    "    data = df_spark.select(column).toDF(\"text\")\n",
    "    annotations = pipeline.transform(data)\n",
    "    list_ner = annotations.selectExpr(\"ner.result AS ner\").collect()\n",
    "    return getResultSNLP2(list_ner)"
   ]
  },
  {
   "cell_type": "code",
   "execution_count": 27,
   "metadata": {},
   "outputs": [],
   "source": [
    "def getResultSNLP2(list_ner):\n",
    "    result_snlp = []\n",
    "    for ner in list_ner:\n",
    "        count_entity = {'PER': 0, 'LOC': 0, 'MISC': 0, 'ORG': 0}\n",
    "        for i in range(len(ner.ner)):\n",
    "            for key in count_entity.keys():\n",
    "                if key in ner.ner[i]:\n",
    "                    count_entity[key] += 1\n",
    "        max_key = max(count_entity, key = count_entity.get)\n",
    "        if count_entity[max_key]/len(ner.ner) < 2/3:\n",
    "            max_key = \"UNKNOWN\"\n",
    "        result_snlp.append(max_key)\n",
    "    return max(result_snlp, key = result_snlp.count)"
   ]
  },
  {
   "cell_type": "code",
   "execution_count": 28,
   "metadata": {},
   "outputs": [],
   "source": [
    "#df_result['Pred SNLP'] = ['UNKNOWN']*df_result.shape[0]\n",
    "#df_result"
   ]
  },
  {
   "cell_type": "code",
   "execution_count": 29,
   "metadata": {},
   "outputs": [
    {
     "name": "stdout",
     "output_type": "stream",
     "text": [
      "            Column           Pred DP\n",
      "0    type_de_carte               ORG\n",
      "1  numero_de_carte       CREDIT_CARD\n",
      "2             iban               BAN\n",
      "3              nom               PER\n",
      "4              tel  BAN|PHONE_NUMBER\n",
      "5            email     EMAIL_ADDRESS\n",
      "6          adresse               LOC\n",
      "7             date          DATETIME\n"
     ]
    }
   ],
   "source": [
    "for col in unknown_cols:\n",
    "    df_result.at[df_result['Column'] == col, 'Pred DP'] = getResult2(col)\n",
    "print(df_result)"
   ]
  },
  {
   "cell_type": "code",
   "execution_count": 30,
   "metadata": {},
   "outputs": [],
   "source": [
    "try:\n",
    "    sparknlp.stop()\n",
    "except:\n",
    "    pass"
   ]
  },
  {
   "cell_type": "code",
   "execution_count": null,
   "metadata": {},
   "outputs": [],
   "source": []
  }
 ],
 "metadata": {
  "colab": {
   "authorship_tag": "ABX9TyNvj40GWrduj3PO13TIwTpw",
   "collapsed_sections": [
    "_HlpwOSoTANQ",
    "BrwhwfrJTGTp",
    "G1Vltv8TUUYj",
    "iGNMFampV2pu"
   ],
   "mount_file_id": "1bJwiZvjgCH6YWK1fgiPzVun07DE8dU5r",
   "name": "Spark NLP vs DataProfiler.ipynb",
   "provenance": [],
   "toc_visible": true
  },
  "kernelspec": {
   "display_name": "Python 3",
   "language": "python",
   "name": "python3"
  },
  "language_info": {
   "codemirror_mode": {
    "name": "ipython",
    "version": 3
   },
   "file_extension": ".py",
   "mimetype": "text/x-python",
   "name": "python",
   "nbconvert_exporter": "python",
   "pygments_lexer": "ipython3",
   "version": "3.8.8"
  }
 },
 "nbformat": 4,
 "nbformat_minor": 1
}
