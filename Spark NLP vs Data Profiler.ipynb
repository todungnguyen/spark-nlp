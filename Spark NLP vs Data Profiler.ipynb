{
 "cells": [
  {
   "cell_type": "markdown",
   "metadata": {
    "id": "_HlpwOSoTANQ"
   },
   "source": [
    "# Setup"
   ]
  },
  {
   "cell_type": "code",
   "execution_count": 1,
   "metadata": {
    "executionInfo": {
     "elapsed": 662,
     "status": "ok",
     "timestamp": 1635424554525,
     "user": {
      "displayName": "To Dung NGUYEN",
      "photoUrl": "https://lh3.googleusercontent.com/a/default-user=s64",
      "userId": "09013017916719082062"
     },
     "user_tz": -120
    },
    "id": "QX84zpsOCdWx"
   },
   "outputs": [],
   "source": [
    "import sparknlp\n",
    "from sparknlp.base import *\n",
    "from sparknlp.annotator import *\n",
    "from sparknlp.pretrained import PretrainedPipeline\n",
    "from sparknlp.base import LightPipeline\n",
    "import pyspark.sql.functions as F\n",
    "from pyspark.sql import Row\n",
    "\n",
    "import os\n",
    "import json\n",
    "import numpy as ny\n",
    "import pandas as pd\n",
    "import dataprofiler as dp\n",
    "import matplotlib.pyplot as plt\n",
    "path=\"data/data_set_fusion.csv\""
   ]
  },
  {
   "cell_type": "code",
   "execution_count": 2,
   "metadata": {
    "colab": {
     "base_uri": "https://localhost:8080/"
    },
    "executionInfo": {
     "elapsed": 13372,
     "status": "ok",
     "timestamp": 1635424567895,
     "user": {
      "displayName": "To Dung NGUYEN",
      "photoUrl": "https://lh3.googleusercontent.com/a/default-user=s64",
      "userId": "09013017916719082062"
     },
     "user_tz": -120
    },
    "id": "eTzGdSWGCiQ6",
    "outputId": "2db03d4a-b5b3-4fc5-a425-5d2d7a6c6030"
   },
   "outputs": [
    {
     "name": "stdout",
     "output_type": "stream",
     "text": [
      "Spark NLP version: 3.3.2\n",
      "Apache Spark version: 3.1.2\n"
     ]
    }
   ],
   "source": [
    "spark = sparknlp.start()\n",
    "print(\"Spark NLP version: {}\".format(sparknlp.version()))\n",
    "print(\"Apache Spark version: {}\".format(spark.version))"
   ]
  },
  {
   "cell_type": "markdown",
   "metadata": {},
   "source": [
    "### réussi de télécharger modèle en local sans problème"
   ]
  },
  {
   "cell_type": "code",
   "execution_count": null,
   "metadata": {
    "colab": {
     "base_uri": "https://localhost:8080/"
    },
    "executionInfo": {
     "elapsed": 61089,
     "status": "ok",
     "timestamp": 1635424628971,
     "user": {
      "displayName": "To Dung NGUYEN",
      "photoUrl": "https://lh3.googleusercontent.com/a/default-user=s64",
      "userId": "09013017916719082062"
     },
     "user_tz": -120
    },
    "id": "g-P_2-lDClDN",
    "outputId": "191b3b26-1cec-455e-d744-e51b5d7be20f"
   },
   "outputs": [
    {
     "name": "stdout",
     "output_type": "stream",
     "text": [
      "entity_recognizer_lg download started this may take some time.\n"
     ]
    }
   ],
   "source": [
    "pipeline = PretrainedPipeline('entity_recognizer_md', lang = 'fr')\n",
    "#pipeline = PretrainedPipeline.from_disk('entity_recognizer_md_fr')"
   ]
  },
  {
   "cell_type": "markdown",
   "metadata": {
    "id": "BrwhwfrJTGTp"
   },
   "source": [
    "# Spark NLP"
   ]
  },
  {
   "cell_type": "code",
   "execution_count": null,
   "metadata": {
    "executionInfo": {
     "elapsed": 29,
     "status": "ok",
     "timestamp": 1635424628973,
     "user": {
      "displayName": "To Dung NGUYEN",
      "photoUrl": "https://lh3.googleusercontent.com/a/default-user=s64",
      "userId": "09013017916719082062"
     },
     "user_tz": -120
    },
    "id": "ZFOMADy-P0WC"
   },
   "outputs": [],
   "source": [
    "# transfer list of Row into list of True (detected >= 2/3) and False (non detected)\n",
    "def getResultSNLP(list_ner, entity):\n",
    "    result_snlp = []\n",
    "    for ner in list_ner:\n",
    "        cpt = 0\n",
    "        for i in range(len(ner.ner)):\n",
    "            if entity in ner.ner[i]:\n",
    "                cpt += 1\n",
    "        result_snlp.append(cpt/len(ner.ner) >= 2/3)\n",
    "    return result_snlp"
   ]
  },
  {
   "cell_type": "code",
   "execution_count": null,
   "metadata": {
    "executionInfo": {
     "elapsed": 27,
     "status": "ok",
     "timestamp": 1635424628974,
     "user": {
      "displayName": "To Dung NGUYEN",
      "photoUrl": "https://lh3.googleusercontent.com/a/default-user=s64",
      "userId": "09013017916719082062"
     },
     "user_tz": -120
    },
    "id": "IGykXuavCr4j"
   },
   "outputs": [],
   "source": [
    "def runSparkNLP(data, entity):\n",
    "    annotations = pipeline.transform(data)\n",
    "    # annotations.show(n=30, truncate=False)\n",
    "    list_ner = annotations.selectExpr(\"ner.result AS ner\").collect() # list of Row (each Row is list of entity detected)\n",
    "    return getResultSNLP(list_ner, entity)"
   ]
  },
  {
   "cell_type": "markdown",
   "metadata": {
    "id": "G1Vltv8TUUYj"
   },
   "source": [
    "# Data Profiler"
   ]
  },
  {
   "cell_type": "code",
   "execution_count": null,
   "metadata": {
    "executionInfo": {
     "elapsed": 25,
     "status": "ok",
     "timestamp": 1635424628974,
     "user": {
      "displayName": "To Dung NGUYEN",
      "photoUrl": "https://lh3.googleusercontent.com/a/default-user=s64",
      "userId": "09013017916719082062"
     },
     "user_tz": -120
    },
    "id": "dTsFZgMkjshF"
   },
   "outputs": [],
   "source": [
    "def runDataProfiler(data, entity):\n",
    "    labeler = dp.DataLabeler(labeler_type='structured')\n",
    "    predictions = labeler.predict(data)\n",
    "    result_dp = [p == entity for p in predictions['pred']]\n",
    "    return result_dp"
   ]
  },
  {
   "cell_type": "markdown",
   "metadata": {
    "id": "iGNMFampV2pu"
   },
   "source": [
    "# Comparaison \n",
    "### cas une colonnes contient un type d'information unique - PER, LOC, etc <=> on n'a que Positive, aucun Negative"
   ]
  },
  {
   "cell_type": "code",
   "execution_count": null,
   "metadata": {
    "executionInfo": {
     "elapsed": 397,
     "status": "ok",
     "timestamp": 1635432172461,
     "user": {
      "displayName": "To Dung NGUYEN",
      "photoUrl": "https://lh3.googleusercontent.com/a/default-user=s64",
      "userId": "09013017916719082062"
     },
     "user_tz": -120
    },
    "id": "oH1FHcmWXXBR"
   },
   "outputs": [],
   "source": [
    "def comparaison(result_snlp, result_dp):\n",
    "    result_list = {'both': 0, 'snlp': 0, 'dp': 0, 'none': 0}\n",
    "    for i in range(len(result_snlp)):\n",
    "        if result_snlp[i]:\n",
    "            if result_dp[i]: result_list['both'] += 1\n",
    "            else: result_list['snlp'] += 1\n",
    "        else:\n",
    "            if result_dp[i]: result_list['dp'] += 1\n",
    "            else: result_list['none'] += 1\n",
    "\n",
    "    print(result_list)\n",
    "    plt.pie(list(result_list.values()), labels = list(result_list.keys()))\n",
    "    plt.legend(title = \"Detection Rate\")\n",
    "    plt.show()\n",
    "\n",
    "    recall_snlp = result_snlp.count(True) / len(result_snlp)\n",
    "    recall_dp = result_dp.count(True) / len(result_dp)\n",
    "    print(\"Recall Spark NLP:\", recall_snlp)\n",
    "    print(\"Recall Data Profiler:\", recall_dp)\n",
    "    recall = [recall_snlp, recall_dp]\n",
    "    plt.bar([\"Spark NLP\", \"Data Profiler\"], recall)\n",
    "    plt.ylabel('Recall')\n",
    "    plt.show()"
   ]
  },
  {
   "cell_type": "code",
   "execution_count": null,
   "metadata": {
    "executionInfo": {
     "elapsed": 7,
     "status": "ok",
     "timestamp": 1635432172793,
     "user": {
      "displayName": "To Dung NGUYEN",
      "photoUrl": "https://lh3.googleusercontent.com/a/default-user=s64",
      "userId": "09013017916719082062"
     },
     "user_tz": -120
    },
    "id": "2NjEo7mx4eSV"
   },
   "outputs": [],
   "source": [
    "def getResult(column, entity_snlp, entity_dp):\n",
    "    df_spark = spark.read.format(\"csv\").option(\"header\",\"true\").option(\"inferSchema\",\"true\").load(path)\n",
    "    data = df_spark.select(column).toDF(\"text\")\n",
    "    result_snlp = runSparkNLP(data, entity_snlp)\n",
    "\n",
    "    data = dp.Data(path, options=dict(selected_columns=[column]))\n",
    "    result_dp =  runDataProfiler(data, entity_dp)\n",
    "    return result_snlp, result_dp"
   ]
  },
  {
   "cell_type": "markdown",
   "metadata": {
    "id": "urie5XKHp5q9"
   },
   "source": [
    "## nom"
   ]
  },
  {
   "cell_type": "code",
   "execution_count": null,
   "metadata": {
    "colab": {
     "base_uri": "https://localhost:8080/"
    },
    "executionInfo": {
     "elapsed": 92521,
     "status": "ok",
     "timestamp": 1635432265308,
     "user": {
      "displayName": "To Dung NGUYEN",
      "photoUrl": "https://lh3.googleusercontent.com/a/default-user=s64",
      "userId": "09013017916719082062"
     },
     "user_tz": -120
    },
    "id": "A7w3OXCoqHQ4",
    "outputId": "1ee556bb-c362-4aad-f421-24eac2fb1663"
   },
   "outputs": [],
   "source": [
    "result_snlp, result_dp = getResult('nom', 'PER', 'PERSON')"
   ]
  },
  {
   "cell_type": "code",
   "execution_count": null,
   "metadata": {
    "colab": {
     "base_uri": "https://localhost:8080/",
     "height": 0
    },
    "executionInfo": {
     "elapsed": 16,
     "status": "ok",
     "timestamp": 1635432265311,
     "user": {
      "displayName": "To Dung NGUYEN",
      "photoUrl": "https://lh3.googleusercontent.com/a/default-user=s64",
      "userId": "09013017916719082062"
     },
     "user_tz": -120
    },
    "id": "rTxHcUu6nzWP",
    "outputId": "1076d24a-c816-4d48-d711-ee1c81afbd1c"
   },
   "outputs": [],
   "source": [
    "comparaison(result_snlp, result_dp)"
   ]
  },
  {
   "cell_type": "markdown",
   "metadata": {
    "id": "sTnEzw1Pp-Pl"
   },
   "source": [
    "## adresse"
   ]
  },
  {
   "cell_type": "code",
   "execution_count": null,
   "metadata": {
    "colab": {
     "base_uri": "https://localhost:8080/"
    },
    "executionInfo": {
     "elapsed": 1216,
     "status": "ok",
     "timestamp": 1635432266518,
     "user": {
      "displayName": "To Dung NGUYEN",
      "photoUrl": "https://lh3.googleusercontent.com/a/default-user=s64",
      "userId": "09013017916719082062"
     },
     "user_tz": -120
    },
    "id": "2mYEuyEMChyZ",
    "outputId": "3221749b-fb7b-443f-fd46-fc7098a5b17a"
   },
   "outputs": [],
   "source": [
    "df_spark = spark.read.format(\"csv\").option(\"header\",\"true\").option(\"inferSchema\",\"true\").load(path)\n",
    "annotations = pipeline.transform(df_spark.select('adresse').toDF(\"text\"))\n",
    "annotations = annotations.selectExpr(\"token.result AS token\", \"ner.result AS ner\")\n",
    "annotations.show(truncate=False)"
   ]
  },
  {
   "cell_type": "code",
   "execution_count": null,
   "metadata": {
    "colab": {
     "base_uri": "https://localhost:8080/"
    },
    "executionInfo": {
     "elapsed": 115566,
     "status": "ok",
     "timestamp": 1635432382078,
     "user": {
      "displayName": "To Dung NGUYEN",
      "photoUrl": "https://lh3.googleusercontent.com/a/default-user=s64",
      "userId": "09013017916719082062"
     },
     "user_tz": -120
    },
    "id": "8cnHCKdlq46O",
    "outputId": "0946fa93-be12-4482-822d-7e058ffbb66e"
   },
   "outputs": [],
   "source": [
    "result_snlp, result_dp = getResult('adresse', 'LOC', 'ADDRESSE')"
   ]
  },
  {
   "cell_type": "code",
   "execution_count": null,
   "metadata": {
    "colab": {
     "base_uri": "https://localhost:8080/",
     "height": 0
    },
    "executionInfo": {
     "elapsed": 13,
     "status": "ok",
     "timestamp": 1635432382080,
     "user": {
      "displayName": "To Dung NGUYEN",
      "photoUrl": "https://lh3.googleusercontent.com/a/default-user=s64",
      "userId": "09013017916719082062"
     },
     "user_tz": -120
    },
    "id": "mVxL7n4qoaZ2",
    "outputId": "3a42cdc0-2de2-4f8a-fef7-919d79029b2f"
   },
   "outputs": [],
   "source": [
    "comparaison(result_snlp, result_dp)"
   ]
  },
  {
   "cell_type": "markdown",
   "metadata": {
    "id": "-EI2aF9bvn60"
   },
   "source": [
    "# Cas mélange 2 colonnes\n",
    "\n"
   ]
  },
  {
   "cell_type": "code",
   "execution_count": null,
   "metadata": {
    "colab": {
     "base_uri": "https://localhost:8080/",
     "height": 419
    },
    "executionInfo": {
     "elapsed": 615,
     "status": "ok",
     "timestamp": 1635430378460,
     "user": {
      "displayName": "To Dung NGUYEN",
      "photoUrl": "https://lh3.googleusercontent.com/a/default-user=s64",
      "userId": "09013017916719082062"
     },
     "user_tz": -120
    },
    "id": "AtFCx8g-16CW",
    "outputId": "6b5f83f7-a294-44e3-be6c-1eb8db121c46"
   },
   "outputs": [],
   "source": [
    "import random\n",
    "\n",
    "n = 20000 # prendre n lignes chacun\n",
    "\n",
    "df = pd.read_csv(path)\n",
    "fusion_data = pd.DataFrame()\n",
    "fusion_data['data'] = pd.concat([df['nom'][:n], df['adresse'][:n]])\n",
    "fusion_data['class'] = ['PER']*n + ['LOC']*n\n",
    "fusion_data = fusion_data.sample(frac=1)\n",
    "\n",
    "from pyspark.sql.types import StringType\n",
    "fusion_data_snlp = spark.createDataFrame(fusion_data['data'].tolist(), StringType()).toDF('text')\n",
    "fusion_data"
   ]
  },
  {
   "cell_type": "code",
   "execution_count": null,
   "metadata": {
    "colab": {
     "base_uri": "https://localhost:8080/"
    },
    "executionInfo": {
     "elapsed": 1449,
     "status": "ok",
     "timestamp": 1635430383901,
     "user": {
      "displayName": "To Dung NGUYEN",
      "photoUrl": "https://lh3.googleusercontent.com/a/default-user=s64",
      "userId": "09013017916719082062"
     },
     "user_tz": -120
    },
    "id": "wKNHSiuZBdk-",
    "outputId": "ce294485-6062-4cce-e428-9c71285939b4"
   },
   "outputs": [],
   "source": [
    "annotations = pipeline.transform(fusion_data_snlp)\n",
    "annotations = annotations.selectExpr(\"token.result AS token\", \"ner.result AS ner\")\n",
    "annotations.show(truncate=False)"
   ]
  },
  {
   "cell_type": "code",
   "execution_count": null,
   "metadata": {},
   "outputs": [],
   "source": [
    "def countResult(pred, act):\n",
    "    l = len(act)\n",
    "    tp = [act[i] == pred[i] == True for i in range(l)]\n",
    "    fp = [act[i] == False and pred[i] == True for i in range(l)]\n",
    "    tn = [act[i] == pred[i] == False for i in range(l)]\n",
    "    fn = [act[i] == True and pred[i] == False for i in range(l)]\n",
    "    result_count = [tp.count(True), fp.count(True), tn.count(True), fn.count(True)]\n",
    "    print(\"TP: \", result_count[0], \" // FP: \", result_count[1], \" // TN: \", result_count[2], \" // FN: \", result_count[3])\n",
    "    return result_count"
   ]
  },
  {
   "cell_type": "code",
   "execution_count": null,
   "metadata": {
    "id": "BMsen2qSG1gC"
   },
   "outputs": [],
   "source": [
    "def comparaison2(result_snlp, result_dp, actual_class):\n",
    "    print(\"Count result of SNLP:\")\n",
    "    count_snlp = countResult(result_snlp, actual_class)\n",
    "    print(\"Count result of DP:\")\n",
    "    count_dp = countResult(result_dp, actual_class)\n",
    "    \n",
    "    #Recall = TP/(TP+ FN)\n",
    "    recall_snlp = count_snlp[0] / (count_snlp[0] + count_snlp[3]) if (count_snlp[0] + count_snlp[3]) != 0 else 0\n",
    "    recall_dp = count_dp[0] / (count_dp[0] + count_dp[3]) if (count_dp[0] + count_dp[3]) != 0 else 0\n",
    "    print(\"Recall Spark NLP:\", recall_snlp)\n",
    "    print(\"Recall Data Profiler:\", recall_dp)\n",
    "    recall = [recall_snlp, recall_dp]\n",
    "    plt.bar([\"Spark NLP\", \"Data Profiler\"], recall)\n",
    "    plt.ylabel('Recall')\n",
    "    plt.show()\n",
    "    \n",
    "    #Precision = TP/(TP + FP)\n",
    "    prec_snlp = count_snlp[0] / (count_snlp[0] + count_snlp[1]) if (count_snlp[0] + count_snlp[1]) != 0 else 0\n",
    "    prec_dp = count_dp[0] / (count_dp[0] + count_dp[1]) if (count_dp[0] + count_dp[1]) != 0 else 0\n",
    "    print(\"Precision Spark NLP:\", prec_snlp)\n",
    "    print(\"Precision Data Profiler:\", prec_dp)\n",
    "    precision = [prec_snlp, prec_dp]\n",
    "    plt.bar([\"Spark NLP\", \"Data Profiler\"], precision)\n",
    "    plt.ylabel('Precision')\n",
    "    plt.show()"
   ]
  },
  {
   "cell_type": "markdown",
   "metadata": {
    "id": "iLatTuqKFBgh"
   },
   "source": [
    "## nom"
   ]
  },
  {
   "cell_type": "code",
   "execution_count": null,
   "metadata": {
    "colab": {
     "base_uri": "https://localhost:8080/",
     "height": 584
    },
    "executionInfo": {
     "elapsed": 112707,
     "status": "ok",
     "timestamp": 1635427274800,
     "user": {
      "displayName": "To Dung NGUYEN",
      "photoUrl": "https://lh3.googleusercontent.com/a/default-user=s64",
      "userId": "09013017916719082062"
     },
     "user_tz": -120
    },
    "id": "YSqmEoCS8XGO",
    "outputId": "c291add0-6a96-4c40-b297-5f682ab6ef86"
   },
   "outputs": [],
   "source": [
    "result_snlp = runSparkNLP(fusion_data_snlp, 'PER')\n",
    "result_dp =  runDataProfiler(fusion_data['data'], 'PERSON')\n",
    "actual_class = [d == 'PER' for d in fusion_data['class']]\n",
    "comparaison2(result_snlp, result_dp, actual_class)"
   ]
  },
  {
   "cell_type": "markdown",
   "metadata": {
    "id": "gHHhVN3hFET_"
   },
   "source": [
    "## adresse"
   ]
  },
  {
   "cell_type": "code",
   "execution_count": null,
   "metadata": {
    "colab": {
     "base_uri": "https://localhost:8080/",
     "height": 584
    },
    "executionInfo": {
     "elapsed": 112465,
     "status": "ok",
     "timestamp": 1635427387261,
     "user": {
      "displayName": "To Dung NGUYEN",
      "photoUrl": "https://lh3.googleusercontent.com/a/default-user=s64",
      "userId": "09013017916719082062"
     },
     "user_tz": -120
    },
    "id": "5E_BG0kE9yLy",
    "outputId": "7aa9d480-352a-4585-e0ad-d4e5bf4519d3"
   },
   "outputs": [],
   "source": [
    "result_snlp = runSparkNLP(fusion_data_snlp, 'LOC')\n",
    "result_dp =  runDataProfiler(fusion_data['data'], 'ADDRESSE')\n",
    "actual_class = [d == 'LOC' for d in fusion_data['class']]\n",
    "comparaison2(result_snlp, result_dp, actual_class)"
   ]
  },
  {
   "cell_type": "markdown",
   "metadata": {},
   "source": [
    "# Spark NLP + Data Profiler"
   ]
  },
  {
   "cell_type": "code",
   "execution_count": null,
   "metadata": {},
   "outputs": [],
   "source": [
    "def get_structured_results(results):\n",
    "    columns = []\n",
    "    predictions = []\n",
    "    for col_report in results['data_stats']:\n",
    "        columns.append(col_report['column_name'])\n",
    "        predictions.append(col_report['data_label'])\n",
    "        \n",
    "    df_results = pd.DataFrame({'Column' : columns, 'Pred DP' : predictions})\n",
    "    return df_results"
   ]
  },
  {
   "cell_type": "code",
   "execution_count": null,
   "metadata": {},
   "outputs": [],
   "source": [
    "data = dp.Data(path)\n",
    "df_data = data.data\n",
    "df_data.head()"
   ]
  },
  {
   "cell_type": "code",
   "execution_count": null,
   "metadata": {},
   "outputs": [],
   "source": [
    "profiler = dp.Profiler(data)\n",
    "results = profiler.report(report_options={'output_format':'compact'})"
   ]
  },
  {
   "cell_type": "code",
   "execution_count": null,
   "metadata": {},
   "outputs": [],
   "source": [
    "df_result = get_structured_results(results)\n",
    "print(df_result)"
   ]
  },
  {
   "cell_type": "markdown",
   "metadata": {},
   "source": [
    "### ne fait que Spark NLP sur les cols UNKNOWN ou sur tout?"
   ]
  },
  {
   "cell_type": "code",
   "execution_count": null,
   "metadata": {},
   "outputs": [],
   "source": [
    "unknown_cols = []\n",
    "for index, row in df_result.iterrows():\n",
    "    if row['Pred DP'] == 'UNKNOWN':\n",
    "        unknown_cols.append(row['Column'])\n",
    "print(unknown_cols)"
   ]
  },
  {
   "cell_type": "code",
   "execution_count": null,
   "metadata": {},
   "outputs": [],
   "source": [
    "for i in df_result['Pred DP']:\n",
    "    print(i)"
   ]
  },
  {
   "cell_type": "code",
   "execution_count": null,
   "metadata": {},
   "outputs": [],
   "source": [
    "def getResult2(column):\n",
    "    df_spark = spark.read.format(\"csv\").option(\"header\",\"true\").option(\"inferSchema\",\"true\").load(path)\n",
    "    data = df_spark.select(column).toDF(\"text\")\n",
    "    annotations = pipeline.transform(data)\n",
    "    list_ner = annotations.selectExpr(\"ner.result AS ner\").collect()\n",
    "    return getResultSNLP2(list_ner)"
   ]
  },
  {
   "cell_type": "code",
   "execution_count": null,
   "metadata": {},
   "outputs": [],
   "source": [
    "def getResultSNLP2(list_ner):\n",
    "    result_snlp = []\n",
    "    for ner in list_ner:\n",
    "        count_entity = {'PER': 0, 'LOC': 0, 'MISC': 0, 'ORG': 0}\n",
    "        for i in range(len(ner.ner)):\n",
    "            for key in count_entity.keys():\n",
    "                if key in ner.ner[i]:\n",
    "                    count_entity[key] += 1\n",
    "        max_key = max(count_entity, key = count_entity.get)\n",
    "        if count_entity[max_key]/len(ner.ner) < 2/3:\n",
    "            max_key = \"UNKNOWN\"\n",
    "        result_snlp.append(max_key)\n",
    "    return max(result_snlp, key = result_snlp.count)"
   ]
  },
  {
   "cell_type": "code",
   "execution_count": null,
   "metadata": {},
   "outputs": [],
   "source": [
    "#df_result['Pred SNLP'] = ['UNKNOWN']*df_result.shape[0]\n",
    "#df_result"
   ]
  },
  {
   "cell_type": "code",
   "execution_count": null,
   "metadata": {},
   "outputs": [],
   "source": [
    "for col in unknown_cols:\n",
    "    df_result.at[df_result['Column'] == col, 'Pred DP'] = getResult2(col)\n",
    "print(df_result)"
   ]
  },
  {
   "cell_type": "code",
   "execution_count": null,
   "metadata": {},
   "outputs": [],
   "source": [
    "try:\n",
    "    sparknlp.stop()\n",
    "except:\n",
    "    pass"
   ]
  },
  {
   "cell_type": "code",
   "execution_count": null,
   "metadata": {},
   "outputs": [],
   "source": []
  }
 ],
 "metadata": {
  "colab": {
   "authorship_tag": "ABX9TyNvj40GWrduj3PO13TIwTpw",
   "collapsed_sections": [
    "_HlpwOSoTANQ",
    "BrwhwfrJTGTp",
    "G1Vltv8TUUYj",
    "iGNMFampV2pu"
   ],
   "mount_file_id": "1bJwiZvjgCH6YWK1fgiPzVun07DE8dU5r",
   "name": "Spark NLP vs DataProfiler.ipynb",
   "provenance": [],
   "toc_visible": true
  },
  "kernelspec": {
   "display_name": "Python 3",
   "language": "python",
   "name": "python3"
  },
  "language_info": {
   "codemirror_mode": {
    "name": "ipython",
    "version": 3
   },
   "file_extension": ".py",
   "mimetype": "text/x-python",
   "name": "python",
   "nbconvert_exporter": "python",
   "pygments_lexer": "ipython3",
   "version": "3.8.8"
  }
 },
 "nbformat": 4,
 "nbformat_minor": 1
}
