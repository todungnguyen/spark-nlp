{
 "cells": [
  {
   "cell_type": "code",
   "execution_count": 12,
   "id": "a6398b0d",
   "metadata": {},
   "outputs": [],
   "source": [
    "import pyspark.sql.functions as F\n",
    "from pyspark.sql.window import Window\n",
    "from sparknlp.annotator import *\n",
    "from sparknlp.base import *\n",
    "from pyspark.sql.types import *\n",
    "import sparknlp\n",
    "from sparknlp.pretrained import PretrainedPipeline\n",
    "from spacy.lang.fr.stop_words import STOP_WORDS as fr_stop\n",
    "\n",
    "spark = sparknlp.start()"
   ]
  },
  {
   "cell_type": "code",
   "execution_count": 13,
   "id": "9ee724c4",
   "metadata": {},
   "outputs": [],
   "source": [
    "pipeline = PretrainedPipeline.from_disk('entity_recognizer_lg_fr') "
   ]
  },
  {
   "cell_type": "code",
   "execution_count": 14,
   "id": "e7c70e12",
   "metadata": {},
   "outputs": [],
   "source": [
    "path = \"data/data_set_final.csv\"\n",
    "df = spark.read.option(\"header\",\"true\").csv(path)"
   ]
  },
  {
   "cell_type": "code",
   "execution_count": 15,
   "id": "bfd1fbb8",
   "metadata": {},
   "outputs": [],
   "source": [
    "def get_entity(column):\n",
    "        data = df.select(column).toDF(\"text\")\n",
    "        annotations = pipeline.transform(data)\n",
    "        \n",
    "        result = annotations.withColumn(\"id\", F.monotonically_increasing_id()).select(\"id\", \"text\", \"entities\")\n",
    "        result = result.select(F.col(\"id\"), F.col(\"text\"), F.col(\"entities.result\").alias(\"result\"), F.explode(\"entities.metadata\"))\n",
    "        result = result.select(\"id\", \"text\", \"result\", F.col(\"col.entity\").alias(\"predict\"))\n",
    "        result = result.groupby(\"id\", \"predict\").agg(F.count(\"predict\").alias(\"count\"))\n",
    "\n",
    "        w = Window.partitionBy(\"id\").orderBy(F.col(\"count\").desc())\n",
    "\n",
    "        result = result.withColumn(\"row\", F.row_number().over(w)) \\\n",
    "                        .filter(F.col(\"row\") == 1) \\\n",
    "                        .drop(\"row\", \"count\") \\\n",
    "                        .groupby(\"predict\").count()\n",
    "        \n",
    "        result = result.toPandas()\n",
    "        \n",
    "        other_row = {'predict': 'OTHER', 'count': annotations.count() - sum(result.loc[result.predict != 'MISC']['count'])}\n",
    "        result = result.append(other_row, ignore_index = True)\n",
    "        result.drop(result[result.predict == 'MISC'].index, inplace = True)\n",
    "        result.sort_values(by = ['count'], ascending = False, inplace = True)\n",
    "        \n",
    "        return result"
   ]
  },
  {
   "cell_type": "code",
   "execution_count": 16,
   "id": "1fa93798",
   "metadata": {},
   "outputs": [],
   "source": [
    "def update_text(text):\n",
    "    result = []\n",
    "    for t in text.lower().split(\" \"):\n",
    "        if t not in fr_stop:\n",
    "            result.append(t.capitalize())\n",
    "        else:\n",
    "            result.append(t)\n",
    "    return \" \".join(result)\n",
    "\n",
    "my_udf = F.udf(lambda x: update_text(x), StringType())"
   ]
  },
  {
   "cell_type": "code",
   "execution_count": 17,
   "id": "fa7e843d",
   "metadata": {},
   "outputs": [
    {
     "name": "stdout",
     "output_type": "stream",
     "text": [
      "+------------------------+------------------------+------------------------+------------------------+------------------------+\n",
      "|adresse                 |adresse_lower           |adresse_upper           |adresse_initcap         |adresse_udfcap          |\n",
      "+------------------------+------------------------+------------------------+------------------------+------------------------+\n",
      "|Route de Trevoux        |route de trevoux        |ROUTE DE TREVOUX        |Route De Trevoux        |Route de Trevoux        |\n",
      "|Rue Sainte Marie        |rue sainte marie        |RUE SAINTE MARIE        |Rue Sainte Marie        |Rue Sainte Marie        |\n",
      "|1711 Route d’Hauteville |1711 route d’hauteville |1711 ROUTE D’HAUTEVILLE |1711 Route D’hauteville |1711 Route D’hauteville |\n",
      "|Route du Morbier        |route du morbier        |ROUTE DU MORBIER        |Route Du Morbier        |Route du Morbier        |\n",
      "|Rue des Bleuets         |rue des bleuets         |RUE DES BLEUETS         |Rue Des Bleuets         |Rue des Bleuets         |\n",
      "|7 Rue Jean Monnet       |7 rue jean monnet       |7 RUE JEAN MONNET       |7 Rue Jean Monnet       |7 Rue Jean Monnet       |\n",
      "|193 Chemin de Chavagneux|193 chemin de chavagneux|193 CHEMIN DE CHAVAGNEUX|193 Chemin De Chavagneux|193 Chemin de Chavagneux|\n",
      "|55 Rue du Coteau        |55 rue du coteau        |55 RUE DU COTEAU        |55 Rue Du Coteau        |55 Rue du Coteau        |\n",
      "|Rue de l’Eglise         |rue de l’eglise         |RUE DE L’EGLISE         |Rue De L’eglise         |Rue de L’eglise         |\n",
      "|89 Impasse des Chênes   |89 impasse des chênes   |89 IMPASSE DES CHÊNES   |89 Impasse Des Chênes   |89 Impasse des Chênes   |\n",
      "|Rue du Journans         |rue du journans         |RUE DU JOURNANS         |Rue Du Journans         |Rue du Journans         |\n",
      "|Rue de la Rogeraie      |rue de la rogeraie      |RUE DE LA ROGERAIE      |Rue De La Rogeraie      |Rue de la Rogeraie      |\n",
      "|3 Au Bourg              |3 au bourg              |3 AU BOURG              |3 Au Bourg              |3 au Bourg              |\n",
      "|12 Rue Jean Emery       |12 rue jean emery       |12 RUE JEAN EMERY       |12 Rue Jean Emery       |12 Rue Jean Emery       |\n",
      "|Rue du Dauphiné         |rue du dauphiné         |RUE DU DAUPHINÉ         |Rue Du Dauphiné         |Rue du Dauphiné         |\n",
      "|162 Route de Bottenay   |162 route de bottenay   |162 ROUTE DE BOTTENAY   |162 Route De Bottenay   |162 Route de Bottenay   |\n",
      "|Rue de la Doy           |rue de la doy           |RUE DE LA DOY           |Rue De La Doy           |Rue de la Doy           |\n",
      "|Rue des Colonnes        |rue des colonnes        |RUE DES COLONNES        |Rue Des Colonnes        |Rue des Colonnes        |\n",
      "|541 Route du Boissonnet |541 route du boissonnet |541 ROUTE DU BOISSONNET |541 Route Du Boissonnet |541 Route du Boissonnet |\n",
      "|Route de Bourg          |route de bourg          |ROUTE DE BOURG          |Route De Bourg          |Route de Bourg          |\n",
      "+------------------------+------------------------+------------------------+------------------------+------------------------+\n",
      "only showing top 20 rows\n",
      "\n"
     ]
    }
   ],
   "source": [
    "df = df.withColumn(\"adresse_lower\", F.lower(F.col('adresse')))\n",
    "df = df.withColumn(\"adresse_upper\", F.upper(F.col('adresse')))\n",
    "df = df.withColumn(\"adresse_initcap\", F.initcap(F.col('adresse')))\n",
    "df = df.withColumn(\"adresse_udfcap\", my_udf(df.adresse))\n",
    "df.select(\"adresse\", \"adresse_lower\", \"adresse_upper\", \"adresse_initcap\", \"adresse_udfcap\").show(truncate = False)"
   ]
  },
  {
   "cell_type": "code",
   "execution_count": 20,
   "id": "6ef859ed",
   "metadata": {},
   "outputs": [
    {
     "data": {
      "text/plain": [
       "3814"
      ]
     },
     "execution_count": 20,
     "metadata": {},
     "output_type": "execute_result"
    }
   ],
   "source": [
    "df_test = df.select(\"adresse\", \"adresse_udfcap\").filter(df.adresse != df.adresse_udfcap)\n",
    "df_test.count()"
   ]
  },
  {
   "cell_type": "code",
   "execution_count": 21,
   "id": "df3e8c00",
   "metadata": {},
   "outputs": [
    {
     "name": "stdout",
     "output_type": "stream",
     "text": [
      "+-------------------------------+-------------------------------+\n",
      "|adresse                        |adresse_udfcap                 |\n",
      "+-------------------------------+-------------------------------+\n",
      "|1711 Route d’Hauteville        |1711 Route D’hauteville        |\n",
      "|Rue de l’Eglise                |Rue de L’eglise                |\n",
      "|3 Au Bourg                     |3 au Bourg                     |\n",
      "|Lotissement Genevriers l’Europe|Lotissement Genevriers L’europe|\n",
      "|La Rue                         |la Rue                         |\n",
      "|Au Dessus de la Roche          |au dessus de la Roche          |\n",
      "|3 Place Honore d’Urfe          |3 Place Honore D’urfe          |\n",
      "|175 Rue de l’Etang             |175 Rue de L’etang             |\n",
      "|4 Impasse du Quart d’Amont     |4 Impasse du Quart D’amont     |\n",
      "|879 Chemin de l’Aigrefeuille   |879 Chemin de L’aigrefeuille   |\n",
      "|Montee de l’Orme               |Montee de L’orme               |\n",
      "|913 Chemin de l’Aigrefeuille   |913 Chemin de L’aigrefeuille   |\n",
      "|Rue de l’Artisanat             |Rue de L’artisanat             |\n",
      "|980 Che d’Agnereins            |980 Che D’agnereins            |\n",
      "|Rue des Rouges-Gorges          |Rue des Rouges-gorges          |\n",
      "|19 Lotissement En Marmoerain   |19 Lotissement en Marmoerain   |\n",
      "|836 Route d’Hauteville         |836 Route D’hauteville         |\n",
      "|Lotissement Clos des Bouviers I|Lotissement Clos des Bouviers i|\n",
      "|12 Lotissement En Marmoerain   |12 Lotissement en Marmoerain   |\n",
      "|Chemin de l’Ouche              |Chemin de L’ouche              |\n",
      "+-------------------------------+-------------------------------+\n",
      "only showing top 20 rows\n",
      "\n"
     ]
    }
   ],
   "source": [
    "df_test.show(truncate = False)"
   ]
  },
  {
   "cell_type": "code",
   "execution_count": 22,
   "id": "c7bc3a64",
   "metadata": {},
   "outputs": [
    {
     "name": "stdout",
     "output_type": "stream",
     "text": [
      "  predict  count\n",
      "2     LOC  30992\n",
      "4   OTHER   6490\n",
      "1     PER   1978\n",
      "0     ORG    536\n",
      "  predict  count\n",
      "4   OTHER  38768\n",
      "2     LOC   1193\n",
      "1     PER     20\n",
      "0     ORG     15\n",
      "  predict  count\n",
      "2     LOC  22768\n",
      "4   OTHER   8382\n",
      "0     ORG   7572\n",
      "1     PER   1274\n",
      "  predict  count\n",
      "2     LOC  26388\n",
      "4   OTHER  10496\n",
      "1     PER   2173\n",
      "0     ORG    939\n",
      "  predict  count\n",
      "2     LOC  31256\n",
      "4   OTHER   6232\n",
      "1     PER   1935\n",
      "0     ORG    573\n"
     ]
    }
   ],
   "source": [
    "print(get_entity('adresse'))\n",
    "print(get_entity(\"adresse_lower\"))\n",
    "print(get_entity(\"adresse_upper\"))\n",
    "print(get_entity(\"adresse_initcap\"))\n",
    "print(get_entity('adresse_udfcap'))"
   ]
  },
  {
   "cell_type": "code",
   "execution_count": 23,
   "id": "ef3224b2",
   "metadata": {},
   "outputs": [
    {
     "name": "stdout",
     "output_type": "stream",
     "text": [
      "  predict  count\n",
      "1     PER  29595\n",
      "2     LOC   6252\n",
      "4   OTHER   3354\n",
      "0     ORG    795\n",
      "  predict  count\n",
      "1     PER  29560\n",
      "2     LOC   5195\n",
      "4   OTHER   4404\n",
      "0     ORG    837\n"
     ]
    }
   ],
   "source": [
    "print(get_entity('nom'))\n",
    "print(get_entity('prenom'))"
   ]
  },
  {
   "cell_type": "code",
   "execution_count": 24,
   "id": "6a378645",
   "metadata": {},
   "outputs": [],
   "source": [
    "df = df.withColumn(\"nom_udfcap\", my_udf(df.nom))\n",
    "df = df.withColumn(\"prenom_udfcap\", my_udf(df.prenom))"
   ]
  },
  {
   "cell_type": "code",
   "execution_count": 25,
   "id": "d69eb9ed",
   "metadata": {},
   "outputs": [
    {
     "name": "stdout",
     "output_type": "stream",
     "text": [
      "  predict  count\n",
      "1     PER  29587\n",
      "2     LOC   6288\n",
      "4   OTHER   3337\n",
      "0     ORG    784\n",
      "  predict  count\n",
      "1     PER  29426\n",
      "2     LOC   5325\n",
      "4   OTHER   4419\n",
      "0     ORG    826\n"
     ]
    }
   ],
   "source": [
    "print(get_entity('nom_udfcap'))\n",
    "print(get_entity('prenom_udfcap'))"
   ]
  },
  {
   "cell_type": "code",
   "execution_count": 29,
   "id": "5d7c4063",
   "metadata": {},
   "outputs": [
    {
     "name": "stdout",
     "output_type": "stream",
     "text": [
      "416\n",
      "+------------+------------+\n",
      "|nom         |nom_udfcap  |\n",
      "+------------+------------+\n",
      "|De Jong     |de Jong     |\n",
      "|De Vries    |de Vries    |\n",
      "|Da Silva    |da Silva    |\n",
      "|De Boer     |de Boer     |\n",
      "|De Groot    |de Groot    |\n",
      "|De Guzman   |de Guzman   |\n",
      "|De Smet     |de Smet     |\n",
      "|Vos         |vos         |\n",
      "|De La Cruz  |de la Cruz  |\n",
      "|De Vos      |de vos      |\n",
      "|De Wit      |de Wit      |\n",
      "|Cela        |cela        |\n",
      "|De Clercq   |de Clercq   |\n",
      "|D9F2J       |D9f2j       |\n",
      "|De Luca     |de Luca     |\n",
      "|De Leon     |de Leon     |\n",
      "|De Backer   |de Backer   |\n",
      "|De Graaf    |de Graaf    |\n",
      "|Van De Velde|Van de Velde|\n",
      "|Da Costa    |da Costa    |\n",
      "+------------+------------+\n",
      "only showing top 20 rows\n",
      "\n"
     ]
    }
   ],
   "source": [
    "df_test = df.select(\"nom\", \"nom_udfcap\").filter(df.nom != df.nom_udfcap)\n",
    "print(df_test.count())\n",
    "df_test.show(truncate = False)"
   ]
  },
  {
   "cell_type": "code",
   "execution_count": 30,
   "id": "91aa0e7a",
   "metadata": {},
   "outputs": [
    {
     "name": "stdout",
     "output_type": "stream",
     "text": [
      "504\n",
      "+------------+-------------+\n",
      "|prenom      |prenom_udfcap|\n",
      "+------------+-------------+\n",
      "|Bas         |bas          |\n",
      "|Meme        |meme         |\n",
      "|Hou         |hou          |\n",
      "|Hui         |hui          |\n",
      "|Pu          |pu           |\n",
      "|Jean-Pierre |Jean-pierre  |\n",
      "|Sera        |sera         |\n",
      "|Mari-Liis   |Mari-liis    |\n",
      "|Jean De Dieu|Jean de Dieu |\n",
      "|İBrahim    |İbrahim     |\n",
      "|Jean-Paul   |Jean-paul    |\n",
      "|Ceci        |ceci         |\n",
      "|Jean-Marie  |Jean-marie   |\n",
      "|İSmail     |İsmail      |\n",
      "|Jh3A        |Jh3a         |\n",
      "|Jean-Claude |Jean-claude  |\n",
      "|Vu          |vu           |\n",
      "|Ka Hou      |Ka hou       |\n",
      "|Hue         |hue          |\n",
      "|Anne-Marie  |Anne-marie   |\n",
      "+------------+-------------+\n",
      "only showing top 20 rows\n",
      "\n"
     ]
    }
   ],
   "source": [
    "df_test = df.select(\"prenom\", \"prenom_udfcap\").filter(df.prenom != df.prenom_udfcap)\n",
    "print(df_test.count())\n",
    "df_test.show(truncate = False)"
   ]
  },
  {
   "cell_type": "code",
   "execution_count": null,
   "id": "339b9889",
   "metadata": {},
   "outputs": [],
   "source": []
  }
 ],
 "metadata": {
  "kernelspec": {
   "display_name": "Python 3",
   "language": "python",
   "name": "python3"
  },
  "language_info": {
   "codemirror_mode": {
    "name": "ipython",
    "version": 3
   },
   "file_extension": ".py",
   "mimetype": "text/x-python",
   "name": "python",
   "nbconvert_exporter": "python",
   "pygments_lexer": "ipython3",
   "version": "3.8.8"
  }
 },
 "nbformat": 4,
 "nbformat_minor": 5
}
