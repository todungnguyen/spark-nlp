{
 "cells": [
  {
   "cell_type": "code",
   "execution_count": 1,
   "id": "0208c489",
   "metadata": {},
   "outputs": [],
   "source": [
    "import pandas as pd\n",
    "import sparknlp\n",
    "from sensibledetection import SensibleDetection\n",
    "from pyspark.sql import SparkSession\n",
    "path = \"data/data_set_fusion.csv\"\n",
    "#df = pd.read_csv(path)\n",
    "#df.head()"
   ]
  },
  {
   "cell_type": "code",
   "execution_count": 2,
   "id": "2350b20d",
   "metadata": {
    "scrolled": false
   },
   "outputs": [
    {
     "name": "stdout",
     "output_type": "stream",
     "text": [
      "Initialize time: 27.27 s\n"
     ]
    }
   ],
   "source": [
    "# error when run this line 2 times (problem of wifi bourso: portail-wifi.boursorama.fr...)\n",
    "## => solution: connect 4G\n",
    "detection = SensibleDetection()"
   ]
  },
  {
   "cell_type": "code",
   "execution_count": 3,
   "id": "10d479f9",
   "metadata": {},
   "outputs": [
    {
     "name": "stdout",
     "output_type": "stream",
     "text": [
      "WARNING:tensorflow:SavedModel saved prior to TF 2.5 detected when loading Keras model. Please ensure that you are saving the model with model.save() or tf.keras.models.save_model(), *NOT* tf.saved_model.save(). To confirm, there should be a file named \"keras_metadata.pb\" in the SavedModel directory.\n",
      "INFO:DataProfiler.profilers.profile_builder: Finding the Null values in the columns...  (with 3 processes)\n"
     ]
    },
    {
     "name": "stderr",
     "output_type": "stream",
     "text": [
      "/Users/todungnguyen/opt/anaconda3/lib/python3.8/site-packages/dataprofiler/profilers/profile_builder.py:1960: UserWarning: The data will be profiled with a sample size of 7999. All statistics will be based on this subsample and not the whole dataset.\n",
      "  warnings.warn(\"The data will be profiled with a sample size of {}. \"\n",
      "100%|██████████| 8/8 [00:02<00:00,  3.12it/s]\n"
     ]
    },
    {
     "name": "stdout",
     "output_type": "stream",
     "text": [
      "INFO:DataProfiler.profilers.profile_builder: Calculating the statistics...  (with 4 processes)\n"
     ]
    },
    {
     "name": "stderr",
     "output_type": "stream",
     "text": [
      " 62%|██████▎   | 5/8 [00:03<00:01,  2.16it/s]"
     ]
    },
    {
     "name": "stdout",
     "output_type": "stream",
     "text": [
      "WARNING:tensorflow:5 out of the last 6 calls to <function TensorFlowOpLayer._defun_call at 0x7f8b0dc74940> triggered tf.function retracing. Tracing is expensive and the excessive number of tracings could be due to (1) creating @tf.function repeatedly in a loop, (2) passing tensors with different shapes, (3) passing Python objects instead of tensors. For (1), please define your @tf.function outside of the loop. For (2), @tf.function has experimental_relax_shapes=True option that relaxes argument shapes that can avoid unnecessary retracing. For (3), please refer to https://www.tensorflow.org/guide/function#controlling_retracing and https://www.tensorflow.org/api_docs/python/tf/function for  more details.\n"
     ]
    },
    {
     "name": "stderr",
     "output_type": "stream",
     "text": [
      "\r",
      " 75%|███████▌  | 6/8 [00:04<00:00,  2.50it/s]"
     ]
    },
    {
     "name": "stdout",
     "output_type": "stream",
     "text": [
      "WARNING:tensorflow:6 out of the last 7 calls to <function TensorFlowOpLayer._defun_call at 0x7f8b0dc74940> triggered tf.function retracing. Tracing is expensive and the excessive number of tracings could be due to (1) creating @tf.function repeatedly in a loop, (2) passing tensors with different shapes, (3) passing Python objects instead of tensors. For (1), please define your @tf.function outside of the loop. For (2), @tf.function has experimental_relax_shapes=True option that relaxes argument shapes that can avoid unnecessary retracing. For (3), please refer to https://www.tensorflow.org/guide/function#controlling_retracing and https://www.tensorflow.org/api_docs/python/tf/function for  more details.\n"
     ]
    },
    {
     "name": "stderr",
     "output_type": "stream",
     "text": [
      "100%|██████████| 8/8 [00:04<00:00,  1.71it/s]\n"
     ]
    },
    {
     "name": "stdout",
     "output_type": "stream",
     "text": [
      "Data Profiler run time: 15.54 s\n",
      "            Column        Prediction\n",
      "0    type_de_carte           UNKNOWN\n",
      "1  numero_de_carte       CREDIT_CARD\n",
      "2             iban               BAN\n",
      "3              nom           UNKNOWN\n",
      "4              tel  BAN|PHONE_NUMBER\n",
      "5            email     EMAIL_ADDRESS\n",
      "6          adresse           UNKNOWN\n",
      "7             date          DATETIME\n",
      "Spark NLP run time: 136.41 s\n"
     ]
    }
   ],
   "source": [
    "result = detection.run(path)"
   ]
  },
  {
   "cell_type": "code",
   "execution_count": 4,
   "id": "c6ae819a",
   "metadata": {},
   "outputs": [
    {
     "data": {
      "text/html": [
       "<div>\n",
       "<style scoped>\n",
       "    .dataframe tbody tr th:only-of-type {\n",
       "        vertical-align: middle;\n",
       "    }\n",
       "\n",
       "    .dataframe tbody tr th {\n",
       "        vertical-align: top;\n",
       "    }\n",
       "\n",
       "    .dataframe thead th {\n",
       "        text-align: right;\n",
       "    }\n",
       "</style>\n",
       "<table border=\"1\" class=\"dataframe\">\n",
       "  <thead>\n",
       "    <tr style=\"text-align: right;\">\n",
       "      <th></th>\n",
       "      <th>Column</th>\n",
       "      <th>Prediction</th>\n",
       "    </tr>\n",
       "  </thead>\n",
       "  <tbody>\n",
       "    <tr>\n",
       "      <th>0</th>\n",
       "      <td>type_de_carte</td>\n",
       "      <td>ORG</td>\n",
       "    </tr>\n",
       "    <tr>\n",
       "      <th>1</th>\n",
       "      <td>numero_de_carte</td>\n",
       "      <td>CREDIT_CARD</td>\n",
       "    </tr>\n",
       "    <tr>\n",
       "      <th>2</th>\n",
       "      <td>iban</td>\n",
       "      <td>BAN</td>\n",
       "    </tr>\n",
       "    <tr>\n",
       "      <th>3</th>\n",
       "      <td>nom</td>\n",
       "      <td>PER</td>\n",
       "    </tr>\n",
       "    <tr>\n",
       "      <th>4</th>\n",
       "      <td>tel</td>\n",
       "      <td>BAN|PHONE_NUMBER</td>\n",
       "    </tr>\n",
       "    <tr>\n",
       "      <th>5</th>\n",
       "      <td>email</td>\n",
       "      <td>EMAIL_ADDRESS</td>\n",
       "    </tr>\n",
       "    <tr>\n",
       "      <th>6</th>\n",
       "      <td>adresse</td>\n",
       "      <td>LOC</td>\n",
       "    </tr>\n",
       "    <tr>\n",
       "      <th>7</th>\n",
       "      <td>date</td>\n",
       "      <td>DATETIME</td>\n",
       "    </tr>\n",
       "  </tbody>\n",
       "</table>\n",
       "</div>"
      ],
      "text/plain": [
       "            Column        Prediction\n",
       "0    type_de_carte               ORG\n",
       "1  numero_de_carte       CREDIT_CARD\n",
       "2             iban               BAN\n",
       "3              nom               PER\n",
       "4              tel  BAN|PHONE_NUMBER\n",
       "5            email     EMAIL_ADDRESS\n",
       "6          adresse               LOC\n",
       "7             date          DATETIME"
      ]
     },
     "execution_count": 4,
     "metadata": {},
     "output_type": "execute_result"
    }
   ],
   "source": [
    "result"
   ]
  },
  {
   "cell_type": "code",
   "execution_count": null,
   "id": "6cc77888",
   "metadata": {},
   "outputs": [],
   "source": []
  }
 ],
 "metadata": {
  "kernelspec": {
   "display_name": "Python 3",
   "language": "python",
   "name": "python3"
  },
  "language_info": {
   "codemirror_mode": {
    "name": "ipython",
    "version": 3
   },
   "file_extension": ".py",
   "mimetype": "text/x-python",
   "name": "python",
   "nbconvert_exporter": "python",
   "pygments_lexer": "ipython3",
   "version": "3.8.8"
  }
 },
 "nbformat": 4,
 "nbformat_minor": 5
}
