{
 "cells": [
  {
   "cell_type": "code",
   "execution_count": 14,
   "id": "3dcfea55",
   "metadata": {},
   "outputs": [],
   "source": [
    "import time\n",
    "import sparknlp\n",
    "import pandas as pd\n",
    "from pyspark.sql.window import Window\n",
    "import pyspark.sql.functions as F\n",
    "from sparknlp.pretrained import PretrainedPipeline\n",
    "path = \"data/data_set_fusion.csv\""
   ]
  },
  {
   "cell_type": "code",
   "execution_count": 2,
   "id": "91f6a1b6",
   "metadata": {},
   "outputs": [],
   "source": [
    "spark = sparknlp.start()\n",
    "pipeline = PretrainedPipeline.from_disk('entity_recognizer_lg_fr')"
   ]
  },
  {
   "cell_type": "markdown",
   "id": "23995e10",
   "metadata": {},
   "source": [
    "# Breakdown pipeline transform"
   ]
  },
  {
   "cell_type": "code",
   "execution_count": 3,
   "id": "96b60d08",
   "metadata": {},
   "outputs": [],
   "source": [
    "def run_unknown(column):\n",
    "    df_spark = spark.read.option(\"header\",\"true\").csv(path)\n",
    "    data = df_spark.select(column).toDF(\"text\")\n",
    "    annotations = pipeline.transform(data)\n",
    "    \n",
    "    # collect() is an action, it run selectExpr and transform also\n",
    "    start = time.time()    \n",
    "    list_ner = annotations.selectExpr(\"ner.result AS ner\").collect()\n",
    "    stop = time.time()\n",
    "    print(\"collect time: %.2f\" % (stop - start), \"s\")\n",
    "    \n",
    "    return list_ner"
   ]
  },
  {
   "cell_type": "code",
   "execution_count": 4,
   "id": "c14f4fc9",
   "metadata": {},
   "outputs": [],
   "source": [
    "#%%time\n",
    "#list_ner_carte = run_unknown(\"type_de_carte\")"
   ]
  },
  {
   "cell_type": "code",
   "execution_count": 5,
   "id": "644db91c",
   "metadata": {},
   "outputs": [],
   "source": [
    "#%%time\n",
    "#list_ner_adresse = run_unknown(\"adresse\")"
   ]
  },
  {
   "cell_type": "code",
   "execution_count": 6,
   "id": "72cd58a7",
   "metadata": {},
   "outputs": [],
   "source": [
    "#%%time\n",
    "#list_ner_nom = run_unknown(\"nom\")"
   ]
  },
  {
   "cell_type": "markdown",
   "id": "aaf55f2c",
   "metadata": {},
   "source": [
    "# Breakdown get entity"
   ]
  },
  {
   "cell_type": "code",
   "execution_count": 7,
   "id": "c7fd535d",
   "metadata": {},
   "outputs": [],
   "source": [
    "def get_entity(list_ner):\n",
    "    result = []\n",
    "    for ner in list_ner:\n",
    "        count_entity = {'PER': 0, 'LOC': 0, 'MISC': 0, 'ORG': 0}\n",
    "        for i in range(len(ner.ner)):\n",
    "            for key in count_entity.keys():\n",
    "                if key in ner.ner[i]:\n",
    "                    count_entity[key] += 1\n",
    "        max_key = max(count_entity, key = count_entity.get)\n",
    "        if count_entity[max_key]/len(ner.ner) < 2/3:\n",
    "            max_key = \"UNKNOWN\"\n",
    "        result.append(max_key)\n",
    "    return max(result, key = result.count)"
   ]
  },
  {
   "cell_type": "code",
   "execution_count": 8,
   "id": "b6e79d12",
   "metadata": {},
   "outputs": [],
   "source": [
    "#%%time\n",
    "#get_entity(list_ner_carte)"
   ]
  },
  {
   "cell_type": "code",
   "execution_count": 9,
   "id": "4d5fb55b",
   "metadata": {},
   "outputs": [],
   "source": [
    "#%%time\n",
    "#get_entity(list_ner_adresse)"
   ]
  },
  {
   "cell_type": "code",
   "execution_count": 10,
   "id": "d7c98f84",
   "metadata": {},
   "outputs": [],
   "source": [
    "#%%time\n",
    "#get_entity(list_ner_nom)"
   ]
  },
  {
   "cell_type": "markdown",
   "id": "f72547df",
   "metadata": {},
   "source": [
    "# Agg spark version"
   ]
  },
  {
   "cell_type": "code",
   "execution_count": 11,
   "id": "76c00137",
   "metadata": {},
   "outputs": [],
   "source": [
    "def get_entity_agg(column):\n",
    "    df_spark = spark.read.option(\"header\",\"true\").csv(path)\n",
    "    data = df_spark.select(column).toDF(\"text\")\n",
    "    annotations = pipeline.transform(data)\n",
    "    result = annotations.select(F.col(\"text\"), F.explode(\"ner.result\").alias(\"entity\"))\n",
    "\n",
    "    result = result.withColumn('ent', F.when(result['entity'] != \"O\", F.split(result['entity'], '-').getItem(1)).otherwise(result['entity'])) \\\n",
    "                    .drop(\"entity\") \\\n",
    "                    .groupby(\"text\", \"ent\") \\\n",
    "                    .agg(F.count(\"ent\").alias(\"count\"))\n",
    "\n",
    "    w2 = Window.partitionBy(\"text\").orderBy(F.col(\"count\").desc())\n",
    "\n",
    "    result = result.withColumn(\"row\",F.row_number().over(w2)) \\\n",
    "                    .filter(F.col(\"row\") == 1) \\\n",
    "                    .drop(\"row\").orderBy(\"text\") \\\n",
    "                    .groupby(\"ent\").count(). \\\n",
    "                    orderBy(F.col(\"count\").desc())\n",
    "    \n",
    "    return result.first()[0]"
   ]
  },
  {
   "cell_type": "markdown",
   "id": "2a23795e",
   "metadata": {},
   "source": [
    "# Total time"
   ]
  },
  {
   "cell_type": "code",
   "execution_count": 18,
   "id": "1a69ecf3",
   "metadata": {},
   "outputs": [
    {
     "name": "stdout",
     "output_type": "stream",
     "text": [
      "NORMAL VERSION: \n",
      "collect time: 49.32 s\n",
      "CPU times: user 8.93 s, sys: 201 ms, total: 9.13 s\n",
      "Wall time: 59.2 s\n"
     ]
    },
    {
     "data": {
      "text/plain": [
       "'PER'"
      ]
     },
     "execution_count": 18,
     "metadata": {},
     "output_type": "execute_result"
    }
   ],
   "source": [
    "%%time\n",
    "print(\"NORMAL VERSION: \")\n",
    "list_ner_nom = run_unknown(\"nom\")\n",
    "get_entity(list_ner_nom)"
   ]
  },
  {
   "cell_type": "code",
   "execution_count": 19,
   "id": "86552dac",
   "metadata": {},
   "outputs": [
    {
     "name": "stdout",
     "output_type": "stream",
     "text": [
      "AGG VERSION: \n",
      "CPU times: user 39.7 ms, sys: 16.5 ms, total: 56.2 ms\n",
      "Wall time: 54.6 s\n"
     ]
    },
    {
     "data": {
      "text/plain": [
       "'PER'"
      ]
     },
     "execution_count": 19,
     "metadata": {},
     "output_type": "execute_result"
    }
   ],
   "source": [
    "%%time\n",
    "print(\"AGG VERSION: \")\n",
    "get_entity_agg(\"nom\")"
   ]
  },
  {
   "cell_type": "code",
   "execution_count": 20,
   "id": "01fd3366",
   "metadata": {},
   "outputs": [
    {
     "name": "stdout",
     "output_type": "stream",
     "text": [
      "NORMAL VERSION: \n",
      "collect time: 39.85 s\n",
      "CPU times: user 13.9 s, sys: 177 ms, total: 14.1 s\n",
      "Wall time: 54.1 s\n"
     ]
    },
    {
     "data": {
      "text/plain": [
       "'LOC'"
      ]
     },
     "execution_count": 20,
     "metadata": {},
     "output_type": "execute_result"
    }
   ],
   "source": [
    "%%time\n",
    "print(\"NORMAL VERSION: \")\n",
    "list_ner_nom = run_unknown(\"adresse\")\n",
    "get_entity(list_ner_nom)"
   ]
  },
  {
   "cell_type": "code",
   "execution_count": 21,
   "id": "89eb4b17",
   "metadata": {},
   "outputs": [
    {
     "name": "stdout",
     "output_type": "stream",
     "text": [
      "AGG VERSION: \n",
      "CPU times: user 37.8 ms, sys: 15.9 ms, total: 53.7 ms\n",
      "Wall time: 50.1 s\n"
     ]
    },
    {
     "data": {
      "text/plain": [
       "'LOC'"
      ]
     },
     "execution_count": 21,
     "metadata": {},
     "output_type": "execute_result"
    }
   ],
   "source": [
    "%%time\n",
    "print(\"AGG VERSION: \")\n",
    "get_entity_agg(\"adresse\")"
   ]
  },
  {
   "cell_type": "code",
   "execution_count": 1,
   "id": "75545c26",
   "metadata": {},
   "outputs": [
    {
     "ename": "NameError",
     "evalue": "name 'spark' is not defined",
     "output_type": "error",
     "traceback": [
      "\u001b[0;31m---------------------------------------------------------------------------\u001b[0m",
      "\u001b[0;31mNameError\u001b[0m                                 Traceback (most recent call last)",
      "\u001b[0;32m<ipython-input-1-5c6b4d5d9db0>\u001b[0m in \u001b[0;36m<module>\u001b[0;34m\u001b[0m\n\u001b[0;32m----> 1\u001b[0;31m \u001b[0mspark\u001b[0m\u001b[0;34m.\u001b[0m\u001b[0mstop\u001b[0m\u001b[0;34m(\u001b[0m\u001b[0;34m)\u001b[0m\u001b[0;34m\u001b[0m\u001b[0;34m\u001b[0m\u001b[0m\n\u001b[0m",
      "\u001b[0;31mNameError\u001b[0m: name 'spark' is not defined"
     ]
    }
   ],
   "source": [
    "spark.stop()"
   ]
  },
  {
   "cell_type": "code",
   "execution_count": null,
   "id": "b9262ccd",
   "metadata": {},
   "outputs": [],
   "source": []
  }
 ],
 "metadata": {
  "kernelspec": {
   "display_name": "Python 3",
   "language": "python",
   "name": "python3"
  },
  "language_info": {
   "codemirror_mode": {
    "name": "ipython",
    "version": 3
   },
   "file_extension": ".py",
   "mimetype": "text/x-python",
   "name": "python",
   "nbconvert_exporter": "python",
   "pygments_lexer": "ipython3",
   "version": "3.8.8"
  }
 },
 "nbformat": 4,
 "nbformat_minor": 5
}
