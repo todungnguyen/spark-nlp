{
 "cells": [
  {
   "cell_type": "code",
   "execution_count": 1,
   "id": "5e7d1b1e",
   "metadata": {},
   "outputs": [],
   "source": [
    "import pyspark.sql.functions as F\n",
    "from pyspark.sql.window import Window\n",
    "from sparknlp.annotator import *\n",
    "from sparknlp.base import *\n",
    "import sparknlp\n",
    "from sparknlp.pretrained import PretrainedPipeline\n",
    "\n",
    "spark = sparknlp.start()"
   ]
  },
  {
   "cell_type": "code",
   "execution_count": 2,
   "id": "6c0ac8e5",
   "metadata": {},
   "outputs": [],
   "source": [
    "path = \"data/data_set_final.csv\""
   ]
  },
  {
   "cell_type": "markdown",
   "id": "893e50a7",
   "metadata": {},
   "source": [
    "# Run pipeline"
   ]
  },
  {
   "cell_type": "code",
   "execution_count": 3,
   "id": "94766e34",
   "metadata": {},
   "outputs": [],
   "source": [
    "pipeline = PretrainedPipeline.from_disk('entity_recognizer_md_fr')"
   ]
  },
  {
   "cell_type": "code",
   "execution_count": 4,
   "id": "d9562012",
   "metadata": {},
   "outputs": [],
   "source": [
    "df = spark.read.option(\"header\",\"true\").csv(path)\n",
    "data = df.select(\"adresse\").toDF(\"text\")\n",
    "annotations = pipeline.transform(data)"
   ]
  },
  {
   "cell_type": "code",
   "execution_count": 5,
   "id": "fb08e363",
   "metadata": {},
   "outputs": [
    {
     "name": "stdout",
     "output_type": "stream",
     "text": [
      "+-------------------------------+----------------------------------+\n",
      "|text                           |result                            |\n",
      "+-------------------------------+----------------------------------+\n",
      "|Route de Trevoux               |[I-MISC, I-MISC, I-MISC]          |\n",
      "|Rue Sainte Marie               |[I-PER, I-PER, I-PER]             |\n",
      "|1711 Route d’Hauteville        |[O, I-MISC, I-MISC]               |\n",
      "|Route du Morbier               |[I-LOC, I-LOC, I-LOC]             |\n",
      "|Rue des Bleuets                |[I-LOC, I-LOC, I-LOC]             |\n",
      "|7 Rue Jean Monnet              |[O, I-LOC, I-PER, I-PER]          |\n",
      "|193 Chemin de Chavagneux       |[O, I-LOC, I-LOC, I-LOC]          |\n",
      "|55 Rue du Coteau               |[O, I-LOC, I-LOC, I-LOC]          |\n",
      "|Rue de l’Eglise                |[I-LOC, I-LOC, I-LOC]             |\n",
      "|89 Impasse des Chênes          |[O, I-LOC, I-LOC, I-LOC]          |\n",
      "|Rue du Journans                |[I-LOC, I-LOC, I-LOC]             |\n",
      "|Rue de la Rogeraie             |[I-LOC, I-LOC, I-LOC, I-LOC]      |\n",
      "|3 Au Bourg                     |[O, O, I-LOC]                     |\n",
      "|12 Rue Jean Emery              |[O, I-LOC, I-PER, I-PER]          |\n",
      "|Rue du Dauphiné                |[I-LOC, I-LOC, I-LOC]             |\n",
      "|162 Route de Bottenay          |[O, I-LOC, I-LOC, I-LOC]          |\n",
      "|Rue de la Doy                  |[I-LOC, I-LOC, I-LOC, I-LOC]      |\n",
      "|Rue des Colonnes               |[I-LOC, I-LOC, I-LOC]             |\n",
      "|541 Route du Boissonnet        |[O, I-MISC, I-MISC, I-MISC]       |\n",
      "|Route de Bourg                 |[I-MISC, I-MISC, I-MISC]          |\n",
      "|Route de Saint Etienne du Bois |[O, O, I-LOC, I-LOC, I-LOC, I-LOC]|\n",
      "|Rue de la Tour                 |[I-LOC, O, O, I-MISC]             |\n",
      "|Rue de la Rogeraie             |[I-LOC, I-LOC, I-LOC, I-LOC]      |\n",
      "|Chemin sous la Ville           |[O, O, O, I-LOC]                  |\n",
      "|418 Chemin du Chataignier      |[O, I-LOC, I-LOC, I-LOC]          |\n",
      "|Impasse des Irantelles         |[O, O, I-LOC]                     |\n",
      "|34 Impasse du Plat             |[O, I-LOC, I-LOC, I-LOC]          |\n",
      "|Chemin Vionnet des Places      |[I-PER, I-PER, O, I-LOC]          |\n",
      "|95 Rue des Ecoles              |[I-MISC, I-MISC, I-MISC, I-MISC]  |\n",
      "|Rue des Morilles               |[I-LOC, I-LOC, I-LOC]             |\n",
      "|5 Avenue des Tilleuls          |[I-MISC, I-MISC, I-MISC, I-MISC]  |\n",
      "|961 Chemin de Corneloup        |[O, I-MISC, I-MISC, I-MISC]       |\n",
      "|408 Route de Lyon              |[O, I-LOC, I-LOC, I-LOC]          |\n",
      "|Allee du Cubilot               |[I-LOC, I-LOC, I-LOC]             |\n",
      "|90 Chemin de la Fontaine       |[O, I-LOC, I-LOC, I-LOC, I-LOC]   |\n",
      "|Rue Bombec                     |[I-LOC, I-LOC]                    |\n",
      "|Lotissement Genevriers l’Europe|[I-PER, I-PER, I-PER]             |\n",
      "|Chemin Levé                    |[I-PER, I-PER]                    |\n",
      "|Rue de Cornier                 |[I-LOC, I-LOC, I-LOC]             |\n",
      "|424 Route de Marmont           |[I-MISC, I-MISC, I-MISC, I-MISC]  |\n",
      "+-------------------------------+----------------------------------+\n",
      "only showing top 40 rows\n",
      "\n"
     ]
    }
   ],
   "source": [
    "result = annotations.select(\"text\", \"ner.result\")\n",
    "result.show(40, False)"
   ]
  },
  {
   "cell_type": "code",
   "execution_count": 8,
   "id": "11775272",
   "metadata": {
    "scrolled": false,
    "slideshow": {
     "slide_type": "slide"
    }
   },
   "outputs": [
    {
     "name": "stdout",
     "output_type": "stream",
     "text": [
      "+-------------------------------+---------------------------------+-----------------------------------------------------------------------------------------+\n",
      "|text                           |result                           |metadata                                                                                 |\n",
      "+-------------------------------+---------------------------------+-----------------------------------------------------------------------------------------+\n",
      "|Route de Trevoux               |[Route de Trevoux]               |[{entity -> MISC, sentence -> 0, chunk -> 0}]                                            |\n",
      "|Rue Sainte Marie               |[Rue Sainte Marie]               |[{entity -> PER, sentence -> 0, chunk -> 0}]                                             |\n",
      "|1711 Route d’Hauteville        |[Route d’Hauteville]             |[{entity -> MISC, sentence -> 0, chunk -> 0}]                                            |\n",
      "|Route du Morbier               |[Route du Morbier]               |[{entity -> LOC, sentence -> 0, chunk -> 0}]                                             |\n",
      "|Rue des Bleuets                |[Rue des Bleuets]                |[{entity -> LOC, sentence -> 0, chunk -> 0}]                                             |\n",
      "|7 Rue Jean Monnet              |[Rue Jean Monnet]                |[{entity -> LOC, sentence -> 0, chunk -> 0}]                                             |\n",
      "|193 Chemin de Chavagneux       |[Chemin de Chavagneux]           |[{entity -> LOC, sentence -> 0, chunk -> 0}]                                             |\n",
      "|55 Rue du Coteau               |[Rue du Coteau]                  |[{entity -> LOC, sentence -> 0, chunk -> 0}]                                             |\n",
      "|Rue de l’Eglise                |[Rue de l’Eglise]                |[{entity -> LOC, sentence -> 0, chunk -> 0}]                                             |\n",
      "|89 Impasse des Chênes          |[Impasse des Chênes]             |[{entity -> LOC, sentence -> 0, chunk -> 0}]                                             |\n",
      "|Rue du Journans                |[Rue du Journans]                |[{entity -> LOC, sentence -> 0, chunk -> 0}]                                             |\n",
      "|Rue de la Rogeraie             |[Rue de la Rogeraie]             |[{entity -> LOC, sentence -> 0, chunk -> 0}]                                             |\n",
      "|3 Au Bourg                     |[Bourg]                          |[{entity -> LOC, sentence -> 0, chunk -> 0}]                                             |\n",
      "|12 Rue Jean Emery              |[Rue Jean Emery]                 |[{entity -> LOC, sentence -> 0, chunk -> 0}]                                             |\n",
      "|Rue du Dauphiné                |[Rue du Dauphiné]                |[{entity -> LOC, sentence -> 0, chunk -> 0}]                                             |\n",
      "|162 Route de Bottenay          |[Route de Bottenay]              |[{entity -> LOC, sentence -> 0, chunk -> 0}]                                             |\n",
      "|Rue de la Doy                  |[Rue de la Doy]                  |[{entity -> LOC, sentence -> 0, chunk -> 0}]                                             |\n",
      "|Rue des Colonnes               |[Rue des Colonnes]               |[{entity -> LOC, sentence -> 0, chunk -> 0}]                                             |\n",
      "|541 Route du Boissonnet        |[Route du Boissonnet]            |[{entity -> MISC, sentence -> 0, chunk -> 0}]                                            |\n",
      "|Route de Bourg                 |[Route de Bourg]                 |[{entity -> MISC, sentence -> 0, chunk -> 0}]                                            |\n",
      "|Route de Saint Etienne du Bois |[Saint Etienne du Bois]          |[{entity -> LOC, sentence -> 0, chunk -> 0}]                                             |\n",
      "|Rue de la Tour                 |[Rue, Tour]                      |[{entity -> LOC, sentence -> 0, chunk -> 0}, {entity -> MISC, sentence -> 0, chunk -> 1}]|\n",
      "|Rue de la Rogeraie             |[Rue de la Rogeraie]             |[{entity -> LOC, sentence -> 0, chunk -> 0}]                                             |\n",
      "|Chemin sous la Ville           |[Ville]                          |[{entity -> LOC, sentence -> 0, chunk -> 0}]                                             |\n",
      "|418 Chemin du Chataignier      |[Chemin du Chataignier]          |[{entity -> LOC, sentence -> 0, chunk -> 0}]                                             |\n",
      "|Impasse des Irantelles         |[Irantelles]                     |[{entity -> LOC, sentence -> 0, chunk -> 0}]                                             |\n",
      "|34 Impasse du Plat             |[Impasse du Plat]                |[{entity -> LOC, sentence -> 0, chunk -> 0}]                                             |\n",
      "|Chemin Vionnet des Places      |[Chemin Vionnet, Places]         |[{entity -> PER, sentence -> 0, chunk -> 0}, {entity -> LOC, sentence -> 0, chunk -> 1}] |\n",
      "|95 Rue des Ecoles              |[95 Rue des Ecoles]              |[{entity -> MISC, sentence -> 0, chunk -> 0}]                                            |\n",
      "|Rue des Morilles               |[Rue des Morilles]               |[{entity -> LOC, sentence -> 0, chunk -> 0}]                                             |\n",
      "|5 Avenue des Tilleuls          |[5 Avenue des Tilleuls]          |[{entity -> MISC, sentence -> 0, chunk -> 0}]                                            |\n",
      "|961 Chemin de Corneloup        |[Chemin de Corneloup]            |[{entity -> MISC, sentence -> 0, chunk -> 0}]                                            |\n",
      "|408 Route de Lyon              |[Route de Lyon]                  |[{entity -> LOC, sentence -> 0, chunk -> 0}]                                             |\n",
      "|Allee du Cubilot               |[Allee du Cubilot]               |[{entity -> LOC, sentence -> 0, chunk -> 0}]                                             |\n",
      "|90 Chemin de la Fontaine       |[Chemin de la Fontaine]          |[{entity -> LOC, sentence -> 0, chunk -> 0}]                                             |\n",
      "|Rue Bombec                     |[Rue Bombec]                     |[{entity -> LOC, sentence -> 0, chunk -> 0}]                                             |\n",
      "|Lotissement Genevriers l’Europe|[Lotissement Genevriers l’Europe]|[{entity -> PER, sentence -> 0, chunk -> 0}]                                             |\n",
      "|Chemin Levé                    |[Chemin Levé]                    |[{entity -> PER, sentence -> 0, chunk -> 0}]                                             |\n",
      "|Rue de Cornier                 |[Rue de Cornier]                 |[{entity -> LOC, sentence -> 0, chunk -> 0}]                                             |\n",
      "|424 Route de Marmont           |[424 Route de Marmont]           |[{entity -> MISC, sentence -> 0, chunk -> 0}]                                            |\n",
      "+-------------------------------+---------------------------------+-----------------------------------------------------------------------------------------+\n",
      "only showing top 40 rows\n",
      "\n"
     ]
    }
   ],
   "source": [
    "result = annotations.select(\"text\", \"entities.result\", \"entities.metadata\")\n",
    "result.show(40, False)"
   ]
  },
  {
   "cell_type": "code",
   "execution_count": null,
   "id": "c7a89bdc",
   "metadata": {},
   "outputs": [],
   "source": []
  }
 ],
 "metadata": {
  "celltoolbar": "Slideshow",
  "kernelspec": {
   "display_name": "Python 3",
   "language": "python",
   "name": "python3"
  },
  "language_info": {
   "codemirror_mode": {
    "name": "ipython",
    "version": 3
   },
   "file_extension": ".py",
   "mimetype": "text/x-python",
   "name": "python",
   "nbconvert_exporter": "python",
   "pygments_lexer": "ipython3",
   "version": "3.8.8"
  }
 },
 "nbformat": 4,
 "nbformat_minor": 5
}
