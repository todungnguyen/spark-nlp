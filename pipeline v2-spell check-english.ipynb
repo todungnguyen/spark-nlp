{
 "cells": [
  {
   "cell_type": "code",
   "execution_count": 1,
   "id": "17275221",
   "metadata": {},
   "outputs": [],
   "source": [
    "import pyspark.sql.functions as F\n",
    "from pyspark.sql.window import Window\n",
    "from sparknlp.annotator import *\n",
    "from sparknlp.base import *\n",
    "import sparknlp\n",
    "from sparknlp.pretrained import PretrainedPipeline\n",
    "\n",
    "spark = sparknlp.start()"
   ]
  },
  {
   "cell_type": "code",
   "execution_count": 2,
   "id": "323ac651",
   "metadata": {},
   "outputs": [
    {
     "name": "stdout",
     "output_type": "stream",
     "text": [
      "spellcheck_dl download started this may take some time.\n",
      "Approximate size to download 111.4 MB\n",
      "[OK!]\n"
     ]
    }
   ],
   "source": [
    "documentAssembler = DocumentAssembler()\\\n",
    "    .setInputCol(\"text\")\\\n",
    "    .setOutputCol(\"document\")\n",
    "\n",
    "tokenizer = RecursiveTokenizer()\\\n",
    "    .setInputCols([\"document\"])\\\n",
    "    .setOutputCol(\"token\")\\\n",
    "    .setPrefixes([\"\\\"\", \"(\", \"[\", \"\\n\"])\\\n",
    "    .setSuffixes([\".\", \",\", \"?\", \")\",\"!\", \"'s\"])\n",
    "\n",
    "spellModel = ContextSpellCheckerModel\\\n",
    "    .pretrained('spellcheck_dl')\\\n",
    "    .setInputCols(\"token\")\\\n",
    "    .setOutputCol(\"checked\")\\\n",
    "    .setErrorThreshold(4.0)\\\n",
    "    .setTradeoff(6.0)\n",
    "\n",
    "finisher = Finisher()\\\n",
    "    .setInputCols(\"checked\")\n",
    "\n",
    "pipeline = Pipeline(stages = [\n",
    "     documentAssembler,\n",
    "     tokenizer,\n",
    "     spellModel,\n",
    "     finisher\n",
    "  ])\n",
    "\n",
    "empty_ds = spark.createDataFrame([[\"\"]]).toDF(\"text\")\n",
    "lp = LightPipeline(pipeline.fit(empty_ds))"
   ]
  },
  {
   "cell_type": "code",
   "execution_count": 3,
   "id": "4d7dc6b2",
   "metadata": {},
   "outputs": [
    {
     "data": {
      "text/plain": [
       "{'checked': ['Please',\n",
       "  'allow',\n",
       "  'me',\n",
       "  'to',\n",
       "  'introduce',\n",
       "  'myself',\n",
       "  ',',\n",
       "  'I',\n",
       "  'am',\n",
       "  'a',\n",
       "  'man',\n",
       "  'of',\n",
       "  'wealth',\n",
       "  'and',\n",
       "  'taste']}"
      ]
     },
     "execution_count": 3,
     "metadata": {},
     "output_type": "execute_result"
    }
   ],
   "source": [
    "lp.annotate(\"Plaese alliow me tao introdduce myhelf, I am a man of waelth und tiaste\")"
   ]
  },
  {
   "cell_type": "code",
   "execution_count": null,
   "id": "62f32b6c",
   "metadata": {},
   "outputs": [],
   "source": []
  }
 ],
 "metadata": {
  "kernelspec": {
   "display_name": "Python 3",
   "language": "python",
   "name": "python3"
  },
  "language_info": {
   "codemirror_mode": {
    "name": "ipython",
    "version": 3
   },
   "file_extension": ".py",
   "mimetype": "text/x-python",
   "name": "python",
   "nbconvert_exporter": "python",
   "pygments_lexer": "ipython3",
   "version": "3.8.8"
  }
 },
 "nbformat": 4,
 "nbformat_minor": 5
}
